{
 "cells": [
  {
   "cell_type": "code",
   "execution_count": 1,
   "metadata": {},
   "outputs": [],
   "source": [
    "import os\n",
    "import numpy as np\n",
    "import pandas as pd\n",
    "import mne\n",
    "from mne.preprocessing import ICA\n",
    "from mne_icalabel import label_components\n",
    "import seaborn as sns\n",
    "import matplotlib.pyplot as plt\n",
    "import xlsxwriter"
   ]
  },
  {
   "cell_type": "code",
   "execution_count": 2,
   "metadata": {},
   "outputs": [],
   "source": [
    "def compute_psd(raw_data, fmin, fmax, sfreq):\n",
    "    n_overlap_half = int(2048 / 2)\n",
    "    psds, freqs = mne.time_frequency.psd_array_welch(\n",
    "        raw_data, fmin=fmin, fmax=fmax, n_fft=2048, sfreq=sfreq, n_overlap=n_overlap_half\n",
    "    )\n",
    "    return psds, freqs\n",
    "\n",
    "def normalize_psd(psds):\n",
    "    total_power = np.sum(psds, axis=1, keepdims=True)\n",
    "    normalized_psds = psds / total_power\n",
    "    return normalized_psds\n",
    "\n",
    "def apply_ica(raw, f_min, f_max):\n",
    "    raw_filter = raw.copy().filter(l_freq=f_min, h_freq=f_max)\n",
    "\n",
    "    ica = ICA(n_components=5, random_state=0)\n",
    "    ica.fit(raw_filter)\n",
    "    \n",
    "    ic_labels = label_components(raw_filter, ica, method=\"iclabel\")\n",
    "    exclude_idx = [idx for idx, label in enumerate(ic_labels[\"labels\"]) if label not in [\"brain\", \"muscle artifact\"]]\n",
    "\n",
    "    reconst_raw = raw.copy()\n",
    "    ica.apply(reconst_raw, exclude=exclude_idx)\n",
    "\n",
    "    return reconst_raw.get_data() * 1000000\n",
    "\n",
    "def compute_entropy(psds, low, high):\n",
    "nd indices corresponding to the frequency band\n",
    "    freqs = np.linspace(low, high, psds.shape[1])\n",
    "    \n",
    "    # Normalize PSD values within the frequency band\n",
    "    psds_band = psds[:, (freqs >= low) & (freqs <= high)]\n",
    "    psds_band /= np.sum(psds_band, axis=1, keepdims=True)\n",
    "    \n",
    "    # Compute entropy\n",
    "    entropy_value = -np.sum(psds_band * np.log2(psds_band), axis=1)\n",
    "    \n",
    "    return entropy_value\n",
    "\n",
    "\n",
    "def compute_centroid(psds, freqs, low, high):\n",
    "\n",
    "    # Find indices corresponding to the frequency band\n",
    "    indices = np.where((freqs >= low) & (freqs <= high))[0]\n",
    "    \n",
    "    # Select PSD values within the frequency band\n",
    "    psds_band = psds[:, indices]\n",
    "    \n",
    "    # Compute centroid\n",
    "    centroid = np.sum(psds_band * freqs[indices], axis=1) / np.sum(psds_band, axis=1)\n",
    "    \n",
    "    return centroid\n",
    "\n",
    "def compute_centroid_y(psds, freqs, low, high):\n",
    "\n",
    "    # Find indices corresponding to the frequency band\n",
    "    indices = np.where((freqs >= low) & (freqs <= high))[0]\n",
    "    \n",
    "    # Select PSD values within the frequency band\n",
    "    psds_band = psds[:, indices]\n",
    "    \n",
    "    # Compute centroid\n",
    "    centroidy = np.sum(psds_band * freqs[indices], axis=1) / np.sum(freqs[indices])\n",
    "    \n",
    "    return centroidy\n",
    "\n",
    "def compute_summed_psd(psds, freqs, low, high):\n",
    "\n",
    "    # Find indices corresponding to the frequency band\n",
    "    indices = np.where((freqs >= low) & (freqs <= high))[0]\n",
    "    \n",
    "    # Select PSD values within the frequency band\n",
    "    psds_band = psds[:, indices]\n",
    "    \n",
    "    # Compute centroid\n",
    "    summed_psd = np.sum(psds_band, axis=1)\n",
    "    \n",
    "    return summed_psd\n"
   ]
  },
  {
   "cell_type": "code",
   "execution_count": 3,
   "metadata": {},
   "outputs": [],
   "source": [
    "\n",
    "# Define a function to calculate the summed PSD for each frequency band\n",
    "def calculate_summed_psd(psds, freqs, freq_bands):\n",
    "    summed_psd = {}\n",
    "    for band, (fmin, fmax) in freq_bands.items():\n",
    "        freq_indices = (freqs >= fmin) & (freqs <= fmax)\n",
    "        summed_psd[band] = psds[:, freq_indices].sum(axis=1)\n",
    "    return summed_psd\n",
    "\n",
    "# Initialize lists to store data\n",
    "summed_psd_list = []"
   ]
  },
  {
   "cell_type": "code",
   "execution_count": 4,
   "metadata": {},
   "outputs": [],
   "source": [
    "data_folders = {\n",
    "    \"Baik\": \"D:\\VSCode\\Tesis\\Pengukuran\\Raw\\Base\\L3\",\n",
    "    \"Cukup\": \"D:\\VSCode\\Tesis\\Pengukuran\\Raw\\Base\\L2\",\n",
    "    \"Kurang\": \"D:\\VSCode\\Tesis\\Pengukuran\\Raw\\Base\\L1\"\n",
    "}\n",
    "\n",
    "channel_names = ['AF3', 'T7', 'Pz', 'T8', 'AF4']\n",
    "freq_bands = {'Delta': (0.5, 4), 'Teta': (4, 8), 'Alfa': (8, 13), 'Beta': (13, 30), 'Gamma': (30, 45)}\n",
    "\n",
    "labels = []\n",
    "psd_list = []\n",
    "normalized_psds_list = []\n",
    "centroid_list = []\n",
    "\n",
    "# Initialize lists to store data\n",
    "summed_psd_data = []"
   ]
  },
  {
   "cell_type": "code",
   "execution_count": 5,
   "metadata": {},
   "outputs": [],
   "source": [
    "freq_min_band = 2\n",
    "freq_max_band = 45"
   ]
  },
  {
   "cell_type": "code",
   "execution_count": 6,
   "metadata": {},
   "outputs": [
    {
     "name": "stdout",
     "output_type": "stream",
     "text": [
      "Reading D:\\VSCode\\Tesis\\Pengukuran\\Raw\\Base\\L3\\A1_003_s_rmb.fdt\n",
      "Reading 0 ... 124415  =      0.000 ...   971.992 secs...\n"
     ]
    },
    {
     "name": "stderr",
     "output_type": "stream",
     "text": [
      "C:\\Users\\hp\\AppData\\Local\\Temp\\ipykernel_10316\\2395476139.py:6: RuntimeWarning: Data file name in EEG.data (003_s_rmb.fdt) is incorrect, the file name must have changed on disk, using the correct file name (A1_003_s_rmb.fdt).\n",
      "  raw = mne.io.read_raw_eeglab(os.path.join(folder, eeg_file), preload=True)\n"
     ]
    },
    {
     "name": "stdout",
     "output_type": "stream",
     "text": [
      "Filtering raw data in 1 contiguous segment\n",
      "Setting up band-pass filter from 2 - 45 Hz\n",
      "\n",
      "FIR filter parameters\n",
      "---------------------\n",
      "Designing a one-pass, zero-phase, non-causal bandpass filter:\n",
      "- Windowed time-domain design (firwin) method\n",
      "- Hamming window with 0.0194 passband ripple and 53 dB stopband attenuation\n",
      "- Lower passband edge: 2.00\n",
      "- Lower transition bandwidth: 2.00 Hz (-6 dB cutoff frequency: 1.00 Hz)\n",
      "- Upper passband edge: 45.00 Hz\n",
      "- Upper transition bandwidth: 11.25 Hz (-6 dB cutoff frequency: 50.62 Hz)\n",
      "- Filter length: 213 samples (1.664 s)\n",
      "\n"
     ]
    },
    {
     "name": "stdout",
     "output_type": "stream",
     "text": [
      "Fitting ICA to data using 5 channels (please be patient, this may take a while)\n",
      "Selecting by number: 5 components\n",
      "Fitting ICA took 1.2s.\n",
      "NOTE: pick_channels() is a legacy function. New code should use inst.pick(...).\n"
     ]
    },
    {
     "name": "stderr",
     "output_type": "stream",
     "text": [
      "C:\\Users\\hp\\AppData\\Local\\Temp\\ipykernel_10316\\1468158900.py:19: RuntimeWarning: The provided Raw instance does not seem to be referenced to a common average reference (CAR). ICLabel was designed to classify features extracted from an EEG dataset referenced to a CAR (see the 'set_eeg_reference()' method for Raw and Epochs instances).\n",
      "  ic_labels = label_components(raw_filter, ica, method=\"iclabel\")\n",
      "C:\\Users\\hp\\AppData\\Local\\Temp\\ipykernel_10316\\1468158900.py:19: RuntimeWarning: The provided Raw instance is not filtered between 1 and 100 Hz. ICLabel was designed to classify features extracted from an EEG dataset bandpass filtered between 1 and 100 Hz (see the 'filter()' method for Raw and Epochs instances).\n",
      "  ic_labels = label_components(raw_filter, ica, method=\"iclabel\")\n",
      "C:\\Users\\hp\\AppData\\Local\\Temp\\ipykernel_10316\\1468158900.py:19: RuntimeWarning: The provided ICA instance was fitted with a 'fastica' algorithm. ICLabel was designed with extended infomax ICA decompositions. To use the extended infomax algorithm, use the 'mne.preprocessing.ICA' instance with the arguments 'ICA(method='infomax', fit_params=dict(extended=True))' (scikit-learn) or 'ICA(method='picard', fit_params=dict(ortho=False, extended=True))' (python-picard).\n",
      "  ic_labels = label_components(raw_filter, ica, method=\"iclabel\")\n"
     ]
    },
    {
     "name": "stdout",
     "output_type": "stream",
     "text": [
      "Applying ICA to Raw instance\n",
      "    Transforming to ICA space (5 components)\n",
      "    Zeroing out 2 ICA components\n",
      "    Projecting back using 5 PCA components\n",
      "Filtering raw data in 1 contiguous segment\n",
      "Setting up band-pass filter from 2 - 45 Hz\n",
      "\n",
      "FIR filter parameters\n",
      "---------------------\n",
      "Designing a one-pass, zero-phase, non-causal bandpass filter:\n",
      "- Windowed time-domain design (firwin) method\n",
      "- Hamming window with 0.0194 passband ripple and 53 dB stopband attenuation\n",
      "- Lower passband edge: 2.00\n",
      "- Lower transition bandwidth: 2.00 Hz (-6 dB cutoff frequency: 1.00 Hz)\n",
      "- Upper passband edge: 45.00 Hz\n",
      "- Upper transition bandwidth: 11.25 Hz (-6 dB cutoff frequency: 50.62 Hz)\n",
      "- Filter length: 213 samples (1.664 s)\n",
      "\n",
      "Fitting ICA to data using 5 channels (please be patient, this may take a while)\n",
      "Selecting by number: 5 components\n",
      "Fitting ICA took 0.8s.\n",
      "NOTE: pick_channels() is a legacy function. New code should use inst.pick(...).\n"
     ]
    },
    {
     "name": "stderr",
     "output_type": "stream",
     "text": [
      "C:\\Users\\hp\\AppData\\Local\\Temp\\ipykernel_10316\\1468158900.py:19: RuntimeWarning: The provided Raw instance does not seem to be referenced to a common average reference (CAR). ICLabel was designed to classify features extracted from an EEG dataset referenced to a CAR (see the 'set_eeg_reference()' method for Raw and Epochs instances).\n",
      "  ic_labels = label_components(raw_filter, ica, method=\"iclabel\")\n",
      "C:\\Users\\hp\\AppData\\Local\\Temp\\ipykernel_10316\\1468158900.py:19: RuntimeWarning: The provided Raw instance is not filtered between 1 and 100 Hz. ICLabel was designed to classify features extracted from an EEG dataset bandpass filtered between 1 and 100 Hz (see the 'filter()' method for Raw and Epochs instances).\n",
      "  ic_labels = label_components(raw_filter, ica, method=\"iclabel\")\n",
      "C:\\Users\\hp\\AppData\\Local\\Temp\\ipykernel_10316\\1468158900.py:19: RuntimeWarning: The provided ICA instance was fitted with a 'fastica' algorithm. ICLabel was designed with extended infomax ICA decompositions. To use the extended infomax algorithm, use the 'mne.preprocessing.ICA' instance with the arguments 'ICA(method='infomax', fit_params=dict(extended=True))' (scikit-learn) or 'ICA(method='picard', fit_params=dict(ortho=False, extended=True))' (python-picard).\n",
      "  ic_labels = label_components(raw_filter, ica, method=\"iclabel\")\n"
     ]
    },
    {
     "name": "stdout",
     "output_type": "stream",
     "text": [
      "Applying ICA to Raw instance\n",
      "    Transforming to ICA space (5 components)\n",
      "    Zeroing out 2 ICA components\n",
      "    Projecting back using 5 PCA components\n",
      "Filtering raw data in 1 contiguous segment\n",
      "Setting up band-pass filter from 2 - 45 Hz\n",
      "\n",
      "FIR filter parameters\n",
      "---------------------\n",
      "Designing a one-pass, zero-phase, non-causal bandpass filter:\n",
      "- Windowed time-domain design (firwin) method\n",
      "- Hamming window with 0.0194 passband ripple and 53 dB stopband attenuation\n",
      "- Lower passband edge: 2.00\n",
      "- Lower transition bandwidth: 2.00 Hz (-6 dB cutoff frequency: 1.00 Hz)\n",
      "- Upper passband edge: 45.00 Hz\n",
      "- Upper transition bandwidth: 11.25 Hz (-6 dB cutoff frequency: 50.62 Hz)\n",
      "- Filter length: 213 samples (1.664 s)\n",
      "\n",
      "Fitting ICA to data using 5 channels (please be patient, this may take a while)\n",
      "Selecting by number: 5 components\n",
      "Fitting ICA took 0.3s.\n",
      "NOTE: pick_channels() is a legacy function. New code should use inst.pick(...).\n"
     ]
    },
    {
     "name": "stderr",
     "output_type": "stream",
     "text": [
      "C:\\Users\\hp\\AppData\\Local\\Temp\\ipykernel_10316\\1468158900.py:19: RuntimeWarning: The provided Raw instance does not seem to be referenced to a common average reference (CAR). ICLabel was designed to classify features extracted from an EEG dataset referenced to a CAR (see the 'set_eeg_reference()' method for Raw and Epochs instances).\n",
      "  ic_labels = label_components(raw_filter, ica, method=\"iclabel\")\n",
      "C:\\Users\\hp\\AppData\\Local\\Temp\\ipykernel_10316\\1468158900.py:19: RuntimeWarning: The provided Raw instance is not filtered between 1 and 100 Hz. ICLabel was designed to classify features extracted from an EEG dataset bandpass filtered between 1 and 100 Hz (see the 'filter()' method for Raw and Epochs instances).\n",
      "  ic_labels = label_components(raw_filter, ica, method=\"iclabel\")\n",
      "C:\\Users\\hp\\AppData\\Local\\Temp\\ipykernel_10316\\1468158900.py:19: RuntimeWarning: The provided ICA instance was fitted with a 'fastica' algorithm. ICLabel was designed with extended infomax ICA decompositions. To use the extended infomax algorithm, use the 'mne.preprocessing.ICA' instance with the arguments 'ICA(method='infomax', fit_params=dict(extended=True))' (scikit-learn) or 'ICA(method='picard', fit_params=dict(ortho=False, extended=True))' (python-picard).\n",
      "  ic_labels = label_components(raw_filter, ica, method=\"iclabel\")\n"
     ]
    },
    {
     "name": "stdout",
     "output_type": "stream",
     "text": [
      "Applying ICA to Raw instance\n",
      "    Transforming to ICA space (5 components)\n",
      "    Zeroing out 2 ICA components\n",
      "    Projecting back using 5 PCA components\n",
      "Effective window size : 16.000 (s)\n",
      "Effective window size : 16.000 (s)\n",
      "Effective window size : 16.000 (s)\n",
      "Reading D:\\VSCode\\Tesis\\Pengukuran\\Raw\\Base\\L3\\A2_007_s_rmb.fdt\n",
      "Reading 0 ... 124927  =      0.000 ...   975.992 secs...\n",
      "Filtering raw data in 1 contiguous segment\n",
      "Setting up band-pass filter from 2 - 45 Hz\n",
      "\n",
      "FIR filter parameters\n",
      "---------------------\n",
      "Designing a one-pass, zero-phase, non-causal bandpass filter:\n",
      "- Windowed time-domain design (firwin) method\n",
      "- Hamming window with 0.0194 passband ripple and 53 dB stopband attenuation\n",
      "- Lower passband edge: 2.00\n",
      "- Lower transition bandwidth: 2.00 Hz (-6 dB cutoff frequency: 1.00 Hz)\n",
      "- Upper passband edge: 45.00 Hz\n",
      "- Upper transition bandwidth: 11.25 Hz (-6 dB cutoff frequency: 50.62 Hz)\n",
      "- Filter length: 213 samples (1.664 s)\n",
      "\n"
     ]
    },
    {
     "name": "stderr",
     "output_type": "stream",
     "text": [
      "C:\\Users\\hp\\AppData\\Local\\Temp\\ipykernel_10316\\2395476139.py:6: RuntimeWarning: Data file name in EEG.data (007_s_rmb.fdt) is incorrect, the file name must have changed on disk, using the correct file name (A2_007_s_rmb.fdt).\n",
      "  raw = mne.io.read_raw_eeglab(os.path.join(folder, eeg_file), preload=True)\n"
     ]
    },
    {
     "name": "stdout",
     "output_type": "stream",
     "text": [
      "Fitting ICA to data using 5 channels (please be patient, this may take a while)\n",
      "Selecting by number: 5 components\n",
      "Fitting ICA took 1.1s.\n",
      "NOTE: pick_channels() is a legacy function. New code should use inst.pick(...).\n"
     ]
    },
    {
     "name": "stderr",
     "output_type": "stream",
     "text": [
      "C:\\Users\\hp\\AppData\\Local\\Temp\\ipykernel_10316\\1468158900.py:19: RuntimeWarning: The provided Raw instance does not seem to be referenced to a common average reference (CAR). ICLabel was designed to classify features extracted from an EEG dataset referenced to a CAR (see the 'set_eeg_reference()' method for Raw and Epochs instances).\n",
      "  ic_labels = label_components(raw_filter, ica, method=\"iclabel\")\n",
      "C:\\Users\\hp\\AppData\\Local\\Temp\\ipykernel_10316\\1468158900.py:19: RuntimeWarning: The provided Raw instance is not filtered between 1 and 100 Hz. ICLabel was designed to classify features extracted from an EEG dataset bandpass filtered between 1 and 100 Hz (see the 'filter()' method for Raw and Epochs instances).\n",
      "  ic_labels = label_components(raw_filter, ica, method=\"iclabel\")\n",
      "C:\\Users\\hp\\AppData\\Local\\Temp\\ipykernel_10316\\1468158900.py:19: RuntimeWarning: The provided ICA instance was fitted with a 'fastica' algorithm. ICLabel was designed with extended infomax ICA decompositions. To use the extended infomax algorithm, use the 'mne.preprocessing.ICA' instance with the arguments 'ICA(method='infomax', fit_params=dict(extended=True))' (scikit-learn) or 'ICA(method='picard', fit_params=dict(ortho=False, extended=True))' (python-picard).\n",
      "  ic_labels = label_components(raw_filter, ica, method=\"iclabel\")\n"
     ]
    },
    {
     "name": "stdout",
     "output_type": "stream",
     "text": [
      "Applying ICA to Raw instance\n",
      "    Transforming to ICA space (5 components)\n",
      "    Zeroing out 2 ICA components\n",
      "    Projecting back using 5 PCA components\n",
      "Filtering raw data in 1 contiguous segment\n",
      "Setting up band-pass filter from 2 - 45 Hz\n",
      "\n",
      "FIR filter parameters\n",
      "---------------------\n",
      "Designing a one-pass, zero-phase, non-causal bandpass filter:\n",
      "- Windowed time-domain design (firwin) method\n",
      "- Hamming window with 0.0194 passband ripple and 53 dB stopband attenuation\n",
      "- Lower passband edge: 2.00\n",
      "- Lower transition bandwidth: 2.00 Hz (-6 dB cutoff frequency: 1.00 Hz)\n",
      "- Upper passband edge: 45.00 Hz\n",
      "- Upper transition bandwidth: 11.25 Hz (-6 dB cutoff frequency: 50.62 Hz)\n",
      "- Filter length: 213 samples (1.664 s)\n",
      "\n",
      "Fitting ICA to data using 5 channels (please be patient, this may take a while)\n",
      "Selecting by number: 5 components\n",
      "Fitting ICA took 1.1s.\n",
      "NOTE: pick_channels() is a legacy function. New code should use inst.pick(...).\n"
     ]
    },
    {
     "name": "stderr",
     "output_type": "stream",
     "text": [
      "C:\\Users\\hp\\AppData\\Local\\Temp\\ipykernel_10316\\1468158900.py:19: RuntimeWarning: The provided Raw instance does not seem to be referenced to a common average reference (CAR). ICLabel was designed to classify features extracted from an EEG dataset referenced to a CAR (see the 'set_eeg_reference()' method for Raw and Epochs instances).\n",
      "  ic_labels = label_components(raw_filter, ica, method=\"iclabel\")\n",
      "C:\\Users\\hp\\AppData\\Local\\Temp\\ipykernel_10316\\1468158900.py:19: RuntimeWarning: The provided Raw instance is not filtered between 1 and 100 Hz. ICLabel was designed to classify features extracted from an EEG dataset bandpass filtered between 1 and 100 Hz (see the 'filter()' method for Raw and Epochs instances).\n",
      "  ic_labels = label_components(raw_filter, ica, method=\"iclabel\")\n",
      "C:\\Users\\hp\\AppData\\Local\\Temp\\ipykernel_10316\\1468158900.py:19: RuntimeWarning: The provided ICA instance was fitted with a 'fastica' algorithm. ICLabel was designed with extended infomax ICA decompositions. To use the extended infomax algorithm, use the 'mne.preprocessing.ICA' instance with the arguments 'ICA(method='infomax', fit_params=dict(extended=True))' (scikit-learn) or 'ICA(method='picard', fit_params=dict(ortho=False, extended=True))' (python-picard).\n",
      "  ic_labels = label_components(raw_filter, ica, method=\"iclabel\")\n"
     ]
    },
    {
     "name": "stdout",
     "output_type": "stream",
     "text": [
      "Applying ICA to Raw instance\n",
      "    Transforming to ICA space (5 components)\n",
      "    Zeroing out 2 ICA components\n",
      "    Projecting back using 5 PCA components\n",
      "Filtering raw data in 1 contiguous segment\n",
      "Setting up band-pass filter from 2 - 45 Hz\n",
      "\n",
      "FIR filter parameters\n",
      "---------------------\n",
      "Designing a one-pass, zero-phase, non-causal bandpass filter:\n",
      "- Windowed time-domain design (firwin) method\n",
      "- Hamming window with 0.0194 passband ripple and 53 dB stopband attenuation\n",
      "- Lower passband edge: 2.00\n",
      "- Lower transition bandwidth: 2.00 Hz (-6 dB cutoff frequency: 1.00 Hz)\n",
      "- Upper passband edge: 45.00 Hz\n",
      "- Upper transition bandwidth: 11.25 Hz (-6 dB cutoff frequency: 50.62 Hz)\n",
      "- Filter length: 213 samples (1.664 s)\n",
      "\n",
      "Fitting ICA to data using 5 channels (please be patient, this may take a while)\n",
      "Selecting by number: 5 components\n",
      "Fitting ICA took 0.7s.\n",
      "NOTE: pick_channels() is a legacy function. New code should use inst.pick(...).\n"
     ]
    },
    {
     "name": "stderr",
     "output_type": "stream",
     "text": [
      "C:\\Users\\hp\\AppData\\Local\\Temp\\ipykernel_10316\\1468158900.py:19: RuntimeWarning: The provided Raw instance does not seem to be referenced to a common average reference (CAR). ICLabel was designed to classify features extracted from an EEG dataset referenced to a CAR (see the 'set_eeg_reference()' method for Raw and Epochs instances).\n",
      "  ic_labels = label_components(raw_filter, ica, method=\"iclabel\")\n",
      "C:\\Users\\hp\\AppData\\Local\\Temp\\ipykernel_10316\\1468158900.py:19: RuntimeWarning: The provided Raw instance is not filtered between 1 and 100 Hz. ICLabel was designed to classify features extracted from an EEG dataset bandpass filtered between 1 and 100 Hz (see the 'filter()' method for Raw and Epochs instances).\n",
      "  ic_labels = label_components(raw_filter, ica, method=\"iclabel\")\n",
      "C:\\Users\\hp\\AppData\\Local\\Temp\\ipykernel_10316\\1468158900.py:19: RuntimeWarning: The provided ICA instance was fitted with a 'fastica' algorithm. ICLabel was designed with extended infomax ICA decompositions. To use the extended infomax algorithm, use the 'mne.preprocessing.ICA' instance with the arguments 'ICA(method='infomax', fit_params=dict(extended=True))' (scikit-learn) or 'ICA(method='picard', fit_params=dict(ortho=False, extended=True))' (python-picard).\n",
      "  ic_labels = label_components(raw_filter, ica, method=\"iclabel\")\n"
     ]
    },
    {
     "name": "stdout",
     "output_type": "stream",
     "text": [
      "Applying ICA to Raw instance\n",
      "    Transforming to ICA space (5 components)\n",
      "    Zeroing out 3 ICA components\n",
      "    Projecting back using 5 PCA components\n",
      "Effective window size : 16.000 (s)\n",
      "Effective window size : 16.000 (s)\n",
      "Effective window size : 16.000 (s)\n",
      "Reading D:\\VSCode\\Tesis\\Pengukuran\\Raw\\Base\\L3\\A3_008_s_rmb.fdt\n",
      "Reading 0 ... 124671  =      0.000 ...   973.992 secs...\n",
      "Filtering raw data in 1 contiguous segment\n",
      "Setting up band-pass filter from 2 - 45 Hz\n",
      "\n",
      "FIR filter parameters\n",
      "---------------------\n",
      "Designing a one-pass, zero-phase, non-causal bandpass filter:\n",
      "- Windowed time-domain design (firwin) method\n",
      "- Hamming window with 0.0194 passband ripple and 53 dB stopband attenuation\n",
      "- Lower passband edge: 2.00\n",
      "- Lower transition bandwidth: 2.00 Hz (-6 dB cutoff frequency: 1.00 Hz)\n",
      "- Upper passband edge: 45.00 Hz\n",
      "- Upper transition bandwidth: 11.25 Hz (-6 dB cutoff frequency: 50.62 Hz)\n",
      "- Filter length: 213 samples (1.664 s)\n",
      "\n",
      "Fitting ICA to data using 5 channels (please be patient, this may take a while)\n",
      "Selecting by number: 5 components\n"
     ]
    },
    {
     "name": "stderr",
     "output_type": "stream",
     "text": [
      "C:\\Users\\hp\\AppData\\Local\\Temp\\ipykernel_10316\\2395476139.py:6: RuntimeWarning: Data file name in EEG.data (008_s_rmb.fdt) is incorrect, the file name must have changed on disk, using the correct file name (A3_008_s_rmb.fdt).\n",
      "  raw = mne.io.read_raw_eeglab(os.path.join(folder, eeg_file), preload=True)\n"
     ]
    },
    {
     "name": "stdout",
     "output_type": "stream",
     "text": [
      "Fitting ICA took 0.2s.\n",
      "NOTE: pick_channels() is a legacy function. New code should use inst.pick(...).\n"
     ]
    },
    {
     "name": "stderr",
     "output_type": "stream",
     "text": [
      "C:\\Users\\hp\\AppData\\Local\\Temp\\ipykernel_10316\\1468158900.py:19: RuntimeWarning: The provided Raw instance does not seem to be referenced to a common average reference (CAR). ICLabel was designed to classify features extracted from an EEG dataset referenced to a CAR (see the 'set_eeg_reference()' method for Raw and Epochs instances).\n",
      "  ic_labels = label_components(raw_filter, ica, method=\"iclabel\")\n",
      "C:\\Users\\hp\\AppData\\Local\\Temp\\ipykernel_10316\\1468158900.py:19: RuntimeWarning: The provided Raw instance is not filtered between 1 and 100 Hz. ICLabel was designed to classify features extracted from an EEG dataset bandpass filtered between 1 and 100 Hz (see the 'filter()' method for Raw and Epochs instances).\n",
      "  ic_labels = label_components(raw_filter, ica, method=\"iclabel\")\n",
      "C:\\Users\\hp\\AppData\\Local\\Temp\\ipykernel_10316\\1468158900.py:19: RuntimeWarning: The provided ICA instance was fitted with a 'fastica' algorithm. ICLabel was designed with extended infomax ICA decompositions. To use the extended infomax algorithm, use the 'mne.preprocessing.ICA' instance with the arguments 'ICA(method='infomax', fit_params=dict(extended=True))' (scikit-learn) or 'ICA(method='picard', fit_params=dict(ortho=False, extended=True))' (python-picard).\n",
      "  ic_labels = label_components(raw_filter, ica, method=\"iclabel\")\n"
     ]
    },
    {
     "name": "stdout",
     "output_type": "stream",
     "text": [
      "Applying ICA to Raw instance\n",
      "    Transforming to ICA space (5 components)\n",
      "    Zeroing out 2 ICA components\n",
      "    Projecting back using 5 PCA components\n",
      "Filtering raw data in 1 contiguous segment\n",
      "Setting up band-pass filter from 2 - 45 Hz\n",
      "\n",
      "FIR filter parameters\n",
      "---------------------\n",
      "Designing a one-pass, zero-phase, non-causal bandpass filter:\n",
      "- Windowed time-domain design (firwin) method\n",
      "- Hamming window with 0.0194 passband ripple and 53 dB stopband attenuation\n",
      "- Lower passband edge: 2.00\n",
      "- Lower transition bandwidth: 2.00 Hz (-6 dB cutoff frequency: 1.00 Hz)\n",
      "- Upper passband edge: 45.00 Hz\n",
      "- Upper transition bandwidth: 11.25 Hz (-6 dB cutoff frequency: 50.62 Hz)\n",
      "- Filter length: 213 samples (1.664 s)\n",
      "\n",
      "Fitting ICA to data using 5 channels (please be patient, this may take a while)\n",
      "Selecting by number: 5 components\n",
      "Fitting ICA took 0.6s.\n",
      "NOTE: pick_channels() is a legacy function. New code should use inst.pick(...).\n"
     ]
    },
    {
     "name": "stderr",
     "output_type": "stream",
     "text": [
      "C:\\Users\\hp\\AppData\\Local\\Temp\\ipykernel_10316\\1468158900.py:19: RuntimeWarning: The provided Raw instance does not seem to be referenced to a common average reference (CAR). ICLabel was designed to classify features extracted from an EEG dataset referenced to a CAR (see the 'set_eeg_reference()' method for Raw and Epochs instances).\n",
      "  ic_labels = label_components(raw_filter, ica, method=\"iclabel\")\n",
      "C:\\Users\\hp\\AppData\\Local\\Temp\\ipykernel_10316\\1468158900.py:19: RuntimeWarning: The provided Raw instance is not filtered between 1 and 100 Hz. ICLabel was designed to classify features extracted from an EEG dataset bandpass filtered between 1 and 100 Hz (see the 'filter()' method for Raw and Epochs instances).\n",
      "  ic_labels = label_components(raw_filter, ica, method=\"iclabel\")\n",
      "C:\\Users\\hp\\AppData\\Local\\Temp\\ipykernel_10316\\1468158900.py:19: RuntimeWarning: The provided ICA instance was fitted with a 'fastica' algorithm. ICLabel was designed with extended infomax ICA decompositions. To use the extended infomax algorithm, use the 'mne.preprocessing.ICA' instance with the arguments 'ICA(method='infomax', fit_params=dict(extended=True))' (scikit-learn) or 'ICA(method='picard', fit_params=dict(ortho=False, extended=True))' (python-picard).\n",
      "  ic_labels = label_components(raw_filter, ica, method=\"iclabel\")\n"
     ]
    },
    {
     "name": "stdout",
     "output_type": "stream",
     "text": [
      "Applying ICA to Raw instance\n",
      "    Transforming to ICA space (5 components)\n",
      "    Zeroing out 1 ICA component\n",
      "    Projecting back using 5 PCA components\n",
      "Filtering raw data in 1 contiguous segment\n",
      "Setting up band-pass filter from 2 - 45 Hz\n",
      "\n",
      "FIR filter parameters\n",
      "---------------------\n",
      "Designing a one-pass, zero-phase, non-causal bandpass filter:\n",
      "- Windowed time-domain design (firwin) method\n",
      "- Hamming window with 0.0194 passband ripple and 53 dB stopband attenuation\n",
      "- Lower passband edge: 2.00\n",
      "- Lower transition bandwidth: 2.00 Hz (-6 dB cutoff frequency: 1.00 Hz)\n",
      "- Upper passband edge: 45.00 Hz\n",
      "- Upper transition bandwidth: 11.25 Hz (-6 dB cutoff frequency: 50.62 Hz)\n",
      "- Filter length: 213 samples (1.664 s)\n",
      "\n",
      "Fitting ICA to data using 5 channels (please be patient, this may take a while)\n",
      "Selecting by number: 5 components\n",
      "Fitting ICA took 0.2s.\n",
      "NOTE: pick_channels() is a legacy function. New code should use inst.pick(...).\n"
     ]
    },
    {
     "name": "stderr",
     "output_type": "stream",
     "text": [
      "C:\\Users\\hp\\AppData\\Local\\Temp\\ipykernel_10316\\1468158900.py:19: RuntimeWarning: The provided Raw instance does not seem to be referenced to a common average reference (CAR). ICLabel was designed to classify features extracted from an EEG dataset referenced to a CAR (see the 'set_eeg_reference()' method for Raw and Epochs instances).\n",
      "  ic_labels = label_components(raw_filter, ica, method=\"iclabel\")\n",
      "C:\\Users\\hp\\AppData\\Local\\Temp\\ipykernel_10316\\1468158900.py:19: RuntimeWarning: The provided Raw instance is not filtered between 1 and 100 Hz. ICLabel was designed to classify features extracted from an EEG dataset bandpass filtered between 1 and 100 Hz (see the 'filter()' method for Raw and Epochs instances).\n",
      "  ic_labels = label_components(raw_filter, ica, method=\"iclabel\")\n",
      "C:\\Users\\hp\\AppData\\Local\\Temp\\ipykernel_10316\\1468158900.py:19: RuntimeWarning: The provided ICA instance was fitted with a 'fastica' algorithm. ICLabel was designed with extended infomax ICA decompositions. To use the extended infomax algorithm, use the 'mne.preprocessing.ICA' instance with the arguments 'ICA(method='infomax', fit_params=dict(extended=True))' (scikit-learn) or 'ICA(method='picard', fit_params=dict(ortho=False, extended=True))' (python-picard).\n",
      "  ic_labels = label_components(raw_filter, ica, method=\"iclabel\")\n"
     ]
    },
    {
     "name": "stdout",
     "output_type": "stream",
     "text": [
      "Applying ICA to Raw instance\n",
      "    Transforming to ICA space (5 components)\n",
      "    Zeroing out 2 ICA components\n",
      "    Projecting back using 5 PCA components\n",
      "Effective window size : 16.000 (s)\n",
      "Effective window size : 16.000 (s)\n",
      "Effective window size : 16.000 (s)\n",
      "Reading D:\\VSCode\\Tesis\\Pengukuran\\Raw\\Base\\L3\\A4_012_s_rmb.fdt\n",
      "Reading 0 ... 125183  =      0.000 ...   977.992 secs...\n",
      "Filtering raw data in 1 contiguous segment\n",
      "Setting up band-pass filter from 2 - 45 Hz\n",
      "\n",
      "FIR filter parameters\n",
      "---------------------\n",
      "Designing a one-pass, zero-phase, non-causal bandpass filter:\n",
      "- Windowed time-domain design (firwin) method\n",
      "- Hamming window with 0.0194 passband ripple and 53 dB stopband attenuation\n",
      "- Lower passband edge: 2.00\n",
      "- Lower transition bandwidth: 2.00 Hz (-6 dB cutoff frequency: 1.00 Hz)\n",
      "- Upper passband edge: 45.00 Hz\n",
      "- Upper transition bandwidth: 11.25 Hz (-6 dB cutoff frequency: 50.62 Hz)\n",
      "- Filter length: 213 samples (1.664 s)\n",
      "\n"
     ]
    },
    {
     "name": "stderr",
     "output_type": "stream",
     "text": [
      "C:\\Users\\hp\\AppData\\Local\\Temp\\ipykernel_10316\\2395476139.py:6: RuntimeWarning: Data file name in EEG.data (012_s_rmb.fdt) is incorrect, the file name must have changed on disk, using the correct file name (A4_012_s_rmb.fdt).\n",
      "  raw = mne.io.read_raw_eeglab(os.path.join(folder, eeg_file), preload=True)\n"
     ]
    },
    {
     "name": "stdout",
     "output_type": "stream",
     "text": [
      "Fitting ICA to data using 5 channels (please be patient, this may take a while)\n",
      "Selecting by number: 5 components\n",
      "Fitting ICA took 21.3s.\n",
      "NOTE: pick_channels() is a legacy function. New code should use inst.pick(...).\n"
     ]
    },
    {
     "name": "stderr",
     "output_type": "stream",
     "text": [
      "c:\\Users\\hp\\AppData\\Local\\Programs\\Python\\Python39\\lib\\site-packages\\sklearn\\decomposition\\_fastica.py:128: ConvergenceWarning: FastICA did not converge. Consider increasing tolerance or the maximum number of iterations.\n",
      "  warnings.warn(\n",
      "C:\\Users\\hp\\AppData\\Local\\Temp\\ipykernel_10316\\1468158900.py:19: RuntimeWarning: The provided Raw instance does not seem to be referenced to a common average reference (CAR). ICLabel was designed to classify features extracted from an EEG dataset referenced to a CAR (see the 'set_eeg_reference()' method for Raw and Epochs instances).\n",
      "  ic_labels = label_components(raw_filter, ica, method=\"iclabel\")\n",
      "C:\\Users\\hp\\AppData\\Local\\Temp\\ipykernel_10316\\1468158900.py:19: RuntimeWarning: The provided Raw instance is not filtered between 1 and 100 Hz. ICLabel was designed to classify features extracted from an EEG dataset bandpass filtered between 1 and 100 Hz (see the 'filter()' method for Raw and Epochs instances).\n",
      "  ic_labels = label_components(raw_filter, ica, method=\"iclabel\")\n",
      "C:\\Users\\hp\\AppData\\Local\\Temp\\ipykernel_10316\\1468158900.py:19: RuntimeWarning: The provided ICA instance was fitted with a 'fastica' algorithm. ICLabel was designed with extended infomax ICA decompositions. To use the extended infomax algorithm, use the 'mne.preprocessing.ICA' instance with the arguments 'ICA(method='infomax', fit_params=dict(extended=True))' (scikit-learn) or 'ICA(method='picard', fit_params=dict(ortho=False, extended=True))' (python-picard).\n",
      "  ic_labels = label_components(raw_filter, ica, method=\"iclabel\")\n"
     ]
    },
    {
     "name": "stdout",
     "output_type": "stream",
     "text": [
      "Applying ICA to Raw instance\n",
      "    Transforming to ICA space (5 components)\n",
      "    Zeroing out 3 ICA components\n",
      "    Projecting back using 5 PCA components\n",
      "Filtering raw data in 1 contiguous segment\n",
      "Setting up band-pass filter from 2 - 45 Hz\n",
      "\n",
      "FIR filter parameters\n",
      "---------------------\n",
      "Designing a one-pass, zero-phase, non-causal bandpass filter:\n",
      "- Windowed time-domain design (firwin) method\n",
      "- Hamming window with 0.0194 passband ripple and 53 dB stopband attenuation\n",
      "- Lower passband edge: 2.00\n",
      "- Lower transition bandwidth: 2.00 Hz (-6 dB cutoff frequency: 1.00 Hz)\n",
      "- Upper passband edge: 45.00 Hz\n",
      "- Upper transition bandwidth: 11.25 Hz (-6 dB cutoff frequency: 50.62 Hz)\n",
      "- Filter length: 213 samples (1.664 s)\n",
      "\n",
      "Fitting ICA to data using 5 channels (please be patient, this may take a while)\n",
      "Selecting by number: 5 components\n",
      "Fitting ICA took 0.6s.\n",
      "NOTE: pick_channels() is a legacy function. New code should use inst.pick(...).\n"
     ]
    },
    {
     "name": "stderr",
     "output_type": "stream",
     "text": [
      "C:\\Users\\hp\\AppData\\Local\\Temp\\ipykernel_10316\\1468158900.py:19: RuntimeWarning: The provided Raw instance does not seem to be referenced to a common average reference (CAR). ICLabel was designed to classify features extracted from an EEG dataset referenced to a CAR (see the 'set_eeg_reference()' method for Raw and Epochs instances).\n",
      "  ic_labels = label_components(raw_filter, ica, method=\"iclabel\")\n",
      "C:\\Users\\hp\\AppData\\Local\\Temp\\ipykernel_10316\\1468158900.py:19: RuntimeWarning: The provided Raw instance is not filtered between 1 and 100 Hz. ICLabel was designed to classify features extracted from an EEG dataset bandpass filtered between 1 and 100 Hz (see the 'filter()' method for Raw and Epochs instances).\n",
      "  ic_labels = label_components(raw_filter, ica, method=\"iclabel\")\n",
      "C:\\Users\\hp\\AppData\\Local\\Temp\\ipykernel_10316\\1468158900.py:19: RuntimeWarning: The provided ICA instance was fitted with a 'fastica' algorithm. ICLabel was designed with extended infomax ICA decompositions. To use the extended infomax algorithm, use the 'mne.preprocessing.ICA' instance with the arguments 'ICA(method='infomax', fit_params=dict(extended=True))' (scikit-learn) or 'ICA(method='picard', fit_params=dict(ortho=False, extended=True))' (python-picard).\n",
      "  ic_labels = label_components(raw_filter, ica, method=\"iclabel\")\n"
     ]
    },
    {
     "name": "stdout",
     "output_type": "stream",
     "text": [
      "Applying ICA to Raw instance\n",
      "    Transforming to ICA space (5 components)\n",
      "    Zeroing out 4 ICA components\n",
      "    Projecting back using 5 PCA components\n",
      "Filtering raw data in 1 contiguous segment\n",
      "Setting up band-pass filter from 2 - 45 Hz\n",
      "\n",
      "FIR filter parameters\n",
      "---------------------\n",
      "Designing a one-pass, zero-phase, non-causal bandpass filter:\n",
      "- Windowed time-domain design (firwin) method\n",
      "- Hamming window with 0.0194 passband ripple and 53 dB stopband attenuation\n",
      "- Lower passband edge: 2.00\n",
      "- Lower transition bandwidth: 2.00 Hz (-6 dB cutoff frequency: 1.00 Hz)\n",
      "- Upper passband edge: 45.00 Hz\n",
      "- Upper transition bandwidth: 11.25 Hz (-6 dB cutoff frequency: 50.62 Hz)\n",
      "- Filter length: 213 samples (1.664 s)\n",
      "\n",
      "Fitting ICA to data using 5 channels (please be patient, this may take a while)\n",
      "Selecting by number: 5 components\n",
      "Fitting ICA took 0.3s.\n",
      "NOTE: pick_channels() is a legacy function. New code should use inst.pick(...).\n"
     ]
    },
    {
     "name": "stderr",
     "output_type": "stream",
     "text": [
      "C:\\Users\\hp\\AppData\\Local\\Temp\\ipykernel_10316\\1468158900.py:19: RuntimeWarning: The provided Raw instance does not seem to be referenced to a common average reference (CAR). ICLabel was designed to classify features extracted from an EEG dataset referenced to a CAR (see the 'set_eeg_reference()' method for Raw and Epochs instances).\n",
      "  ic_labels = label_components(raw_filter, ica, method=\"iclabel\")\n",
      "C:\\Users\\hp\\AppData\\Local\\Temp\\ipykernel_10316\\1468158900.py:19: RuntimeWarning: The provided Raw instance is not filtered between 1 and 100 Hz. ICLabel was designed to classify features extracted from an EEG dataset bandpass filtered between 1 and 100 Hz (see the 'filter()' method for Raw and Epochs instances).\n",
      "  ic_labels = label_components(raw_filter, ica, method=\"iclabel\")\n",
      "C:\\Users\\hp\\AppData\\Local\\Temp\\ipykernel_10316\\1468158900.py:19: RuntimeWarning: The provided ICA instance was fitted with a 'fastica' algorithm. ICLabel was designed with extended infomax ICA decompositions. To use the extended infomax algorithm, use the 'mne.preprocessing.ICA' instance with the arguments 'ICA(method='infomax', fit_params=dict(extended=True))' (scikit-learn) or 'ICA(method='picard', fit_params=dict(ortho=False, extended=True))' (python-picard).\n",
      "  ic_labels = label_components(raw_filter, ica, method=\"iclabel\")\n"
     ]
    },
    {
     "name": "stdout",
     "output_type": "stream",
     "text": [
      "Applying ICA to Raw instance\n",
      "    Transforming to ICA space (5 components)\n",
      "    Zeroing out 3 ICA components\n",
      "    Projecting back using 5 PCA components\n",
      "Effective window size : 16.000 (s)\n",
      "Effective window size : 16.000 (s)\n",
      "Effective window size : 16.000 (s)\n",
      "Reading D:\\VSCode\\Tesis\\Pengukuran\\Raw\\Base\\L3\\A5_013_s_rmb.fdt\n",
      "Reading 0 ... 140287  =      0.000 ...  1095.992 secs...\n",
      "Filtering raw data in 1 contiguous segment\n",
      "Setting up band-pass filter from 2 - 45 Hz\n",
      "\n",
      "FIR filter parameters\n",
      "---------------------\n",
      "Designing a one-pass, zero-phase, non-causal bandpass filter:\n",
      "- Windowed time-domain design (firwin) method\n",
      "- Hamming window with 0.0194 passband ripple and 53 dB stopband attenuation\n",
      "- Lower passband edge: 2.00\n",
      "- Lower transition bandwidth: 2.00 Hz (-6 dB cutoff frequency: 1.00 Hz)\n",
      "- Upper passband edge: 45.00 Hz\n",
      "- Upper transition bandwidth: 11.25 Hz (-6 dB cutoff frequency: 50.62 Hz)\n",
      "- Filter length: 213 samples (1.664 s)\n",
      "\n",
      "Fitting ICA to data using 5 channels (please be patient, this may take a while)\n"
     ]
    },
    {
     "name": "stderr",
     "output_type": "stream",
     "text": [
      "C:\\Users\\hp\\AppData\\Local\\Temp\\ipykernel_10316\\2395476139.py:6: RuntimeWarning: Data file name in EEG.data (013_s_rmb.fdt) is incorrect, the file name must have changed on disk, using the correct file name (A5_013_s_rmb.fdt).\n",
      "  raw = mne.io.read_raw_eeglab(os.path.join(folder, eeg_file), preload=True)\n"
     ]
    },
    {
     "name": "stdout",
     "output_type": "stream",
     "text": [
      "Selecting by number: 5 components\n",
      "Fitting ICA took 0.3s.\n",
      "NOTE: pick_channels() is a legacy function. New code should use inst.pick(...).\n"
     ]
    },
    {
     "name": "stderr",
     "output_type": "stream",
     "text": [
      "C:\\Users\\hp\\AppData\\Local\\Temp\\ipykernel_10316\\1468158900.py:19: RuntimeWarning: The provided Raw instance does not seem to be referenced to a common average reference (CAR). ICLabel was designed to classify features extracted from an EEG dataset referenced to a CAR (see the 'set_eeg_reference()' method for Raw and Epochs instances).\n",
      "  ic_labels = label_components(raw_filter, ica, method=\"iclabel\")\n",
      "C:\\Users\\hp\\AppData\\Local\\Temp\\ipykernel_10316\\1468158900.py:19: RuntimeWarning: The provided Raw instance is not filtered between 1 and 100 Hz. ICLabel was designed to classify features extracted from an EEG dataset bandpass filtered between 1 and 100 Hz (see the 'filter()' method for Raw and Epochs instances).\n",
      "  ic_labels = label_components(raw_filter, ica, method=\"iclabel\")\n",
      "C:\\Users\\hp\\AppData\\Local\\Temp\\ipykernel_10316\\1468158900.py:19: RuntimeWarning: The provided ICA instance was fitted with a 'fastica' algorithm. ICLabel was designed with extended infomax ICA decompositions. To use the extended infomax algorithm, use the 'mne.preprocessing.ICA' instance with the arguments 'ICA(method='infomax', fit_params=dict(extended=True))' (scikit-learn) or 'ICA(method='picard', fit_params=dict(ortho=False, extended=True))' (python-picard).\n",
      "  ic_labels = label_components(raw_filter, ica, method=\"iclabel\")\n"
     ]
    },
    {
     "name": "stdout",
     "output_type": "stream",
     "text": [
      "Applying ICA to Raw instance\n",
      "    Transforming to ICA space (5 components)\n",
      "    Zeroing out 2 ICA components\n",
      "    Projecting back using 5 PCA components\n",
      "Filtering raw data in 1 contiguous segment\n",
      "Setting up band-pass filter from 2 - 45 Hz\n",
      "\n",
      "FIR filter parameters\n",
      "---------------------\n",
      "Designing a one-pass, zero-phase, non-causal bandpass filter:\n",
      "- Windowed time-domain design (firwin) method\n",
      "- Hamming window with 0.0194 passband ripple and 53 dB stopband attenuation\n",
      "- Lower passband edge: 2.00\n",
      "- Lower transition bandwidth: 2.00 Hz (-6 dB cutoff frequency: 1.00 Hz)\n",
      "- Upper passband edge: 45.00 Hz\n",
      "- Upper transition bandwidth: 11.25 Hz (-6 dB cutoff frequency: 50.62 Hz)\n",
      "- Filter length: 213 samples (1.664 s)\n",
      "\n",
      "Fitting ICA to data using 5 channels (please be patient, this may take a while)\n",
      "Selecting by number: 5 components\n",
      "Fitting ICA took 1.4s.\n",
      "NOTE: pick_channels() is a legacy function. New code should use inst.pick(...).\n"
     ]
    },
    {
     "name": "stderr",
     "output_type": "stream",
     "text": [
      "C:\\Users\\hp\\AppData\\Local\\Temp\\ipykernel_10316\\1468158900.py:19: RuntimeWarning: The provided Raw instance does not seem to be referenced to a common average reference (CAR). ICLabel was designed to classify features extracted from an EEG dataset referenced to a CAR (see the 'set_eeg_reference()' method for Raw and Epochs instances).\n",
      "  ic_labels = label_components(raw_filter, ica, method=\"iclabel\")\n",
      "C:\\Users\\hp\\AppData\\Local\\Temp\\ipykernel_10316\\1468158900.py:19: RuntimeWarning: The provided Raw instance is not filtered between 1 and 100 Hz. ICLabel was designed to classify features extracted from an EEG dataset bandpass filtered between 1 and 100 Hz (see the 'filter()' method for Raw and Epochs instances).\n",
      "  ic_labels = label_components(raw_filter, ica, method=\"iclabel\")\n",
      "C:\\Users\\hp\\AppData\\Local\\Temp\\ipykernel_10316\\1468158900.py:19: RuntimeWarning: The provided ICA instance was fitted with a 'fastica' algorithm. ICLabel was designed with extended infomax ICA decompositions. To use the extended infomax algorithm, use the 'mne.preprocessing.ICA' instance with the arguments 'ICA(method='infomax', fit_params=dict(extended=True))' (scikit-learn) or 'ICA(method='picard', fit_params=dict(ortho=False, extended=True))' (python-picard).\n",
      "  ic_labels = label_components(raw_filter, ica, method=\"iclabel\")\n"
     ]
    },
    {
     "name": "stdout",
     "output_type": "stream",
     "text": [
      "Applying ICA to Raw instance\n",
      "    Transforming to ICA space (5 components)\n",
      "    Zeroing out 2 ICA components\n",
      "    Projecting back using 5 PCA components\n",
      "Filtering raw data in 1 contiguous segment\n",
      "Setting up band-pass filter from 2 - 45 Hz\n",
      "\n",
      "FIR filter parameters\n",
      "---------------------\n",
      "Designing a one-pass, zero-phase, non-causal bandpass filter:\n",
      "- Windowed time-domain design (firwin) method\n",
      "- Hamming window with 0.0194 passband ripple and 53 dB stopband attenuation\n",
      "- Lower passband edge: 2.00\n",
      "- Lower transition bandwidth: 2.00 Hz (-6 dB cutoff frequency: 1.00 Hz)\n",
      "- Upper passband edge: 45.00 Hz\n",
      "- Upper transition bandwidth: 11.25 Hz (-6 dB cutoff frequency: 50.62 Hz)\n",
      "- Filter length: 213 samples (1.664 s)\n",
      "\n",
      "Fitting ICA to data using 5 channels (please be patient, this may take a while)\n",
      "Selecting by number: 5 components\n",
      "Fitting ICA took 0.2s.\n",
      "NOTE: pick_channels() is a legacy function. New code should use inst.pick(...).\n"
     ]
    },
    {
     "name": "stderr",
     "output_type": "stream",
     "text": [
      "C:\\Users\\hp\\AppData\\Local\\Temp\\ipykernel_10316\\1468158900.py:19: RuntimeWarning: The provided Raw instance does not seem to be referenced to a common average reference (CAR). ICLabel was designed to classify features extracted from an EEG dataset referenced to a CAR (see the 'set_eeg_reference()' method for Raw and Epochs instances).\n",
      "  ic_labels = label_components(raw_filter, ica, method=\"iclabel\")\n",
      "C:\\Users\\hp\\AppData\\Local\\Temp\\ipykernel_10316\\1468158900.py:19: RuntimeWarning: The provided Raw instance is not filtered between 1 and 100 Hz. ICLabel was designed to classify features extracted from an EEG dataset bandpass filtered between 1 and 100 Hz (see the 'filter()' method for Raw and Epochs instances).\n",
      "  ic_labels = label_components(raw_filter, ica, method=\"iclabel\")\n",
      "C:\\Users\\hp\\AppData\\Local\\Temp\\ipykernel_10316\\1468158900.py:19: RuntimeWarning: The provided ICA instance was fitted with a 'fastica' algorithm. ICLabel was designed with extended infomax ICA decompositions. To use the extended infomax algorithm, use the 'mne.preprocessing.ICA' instance with the arguments 'ICA(method='infomax', fit_params=dict(extended=True))' (scikit-learn) or 'ICA(method='picard', fit_params=dict(ortho=False, extended=True))' (python-picard).\n",
      "  ic_labels = label_components(raw_filter, ica, method=\"iclabel\")\n"
     ]
    },
    {
     "name": "stdout",
     "output_type": "stream",
     "text": [
      "Applying ICA to Raw instance\n",
      "    Transforming to ICA space (5 components)\n",
      "    Zeroing out 3 ICA components\n",
      "    Projecting back using 5 PCA components\n",
      "Effective window size : 16.000 (s)\n",
      "Effective window size : 16.000 (s)\n",
      "Effective window size : 16.000 (s)\n",
      "Reading D:\\VSCode\\Tesis\\Pengukuran\\Raw\\Base\\L2\\B1_001_s_rmb.fdt\n",
      "Reading 0 ... 124799  =      0.000 ...   974.992 secs...\n",
      "Filtering raw data in 1 contiguous segment\n",
      "Setting up band-pass filter from 2 - 45 Hz\n",
      "\n",
      "FIR filter parameters\n",
      "---------------------\n",
      "Designing a one-pass, zero-phase, non-causal bandpass filter:\n",
      "- Windowed time-domain design (firwin) method\n",
      "- Hamming window with 0.0194 passband ripple and 53 dB stopband attenuation\n",
      "- Lower passband edge: 2.00\n",
      "- Lower transition bandwidth: 2.00 Hz (-6 dB cutoff frequency: 1.00 Hz)\n",
      "- Upper passband edge: 45.00 Hz\n",
      "- Upper transition bandwidth: 11.25 Hz (-6 dB cutoff frequency: 50.62 Hz)\n",
      "- Filter length: 213 samples (1.664 s)\n",
      "\n",
      "Fitting ICA to data using 5 channels (please be patient, this may take a while)\n"
     ]
    },
    {
     "name": "stderr",
     "output_type": "stream",
     "text": [
      "C:\\Users\\hp\\AppData\\Local\\Temp\\ipykernel_10316\\2395476139.py:6: RuntimeWarning: Data file name in EEG.data (001_s_rmb.fdt) is incorrect, the file name must have changed on disk, using the correct file name (B1_001_s_rmb.fdt).\n",
      "  raw = mne.io.read_raw_eeglab(os.path.join(folder, eeg_file), preload=True)\n"
     ]
    },
    {
     "name": "stdout",
     "output_type": "stream",
     "text": [
      "Selecting by number: 5 components\n",
      "Fitting ICA took 0.5s.\n",
      "NOTE: pick_channels() is a legacy function. New code should use inst.pick(...).\n"
     ]
    },
    {
     "name": "stderr",
     "output_type": "stream",
     "text": [
      "C:\\Users\\hp\\AppData\\Local\\Temp\\ipykernel_10316\\1468158900.py:19: RuntimeWarning: The provided Raw instance does not seem to be referenced to a common average reference (CAR). ICLabel was designed to classify features extracted from an EEG dataset referenced to a CAR (see the 'set_eeg_reference()' method for Raw and Epochs instances).\n",
      "  ic_labels = label_components(raw_filter, ica, method=\"iclabel\")\n",
      "C:\\Users\\hp\\AppData\\Local\\Temp\\ipykernel_10316\\1468158900.py:19: RuntimeWarning: The provided Raw instance is not filtered between 1 and 100 Hz. ICLabel was designed to classify features extracted from an EEG dataset bandpass filtered between 1 and 100 Hz (see the 'filter()' method for Raw and Epochs instances).\n",
      "  ic_labels = label_components(raw_filter, ica, method=\"iclabel\")\n",
      "C:\\Users\\hp\\AppData\\Local\\Temp\\ipykernel_10316\\1468158900.py:19: RuntimeWarning: The provided ICA instance was fitted with a 'fastica' algorithm. ICLabel was designed with extended infomax ICA decompositions. To use the extended infomax algorithm, use the 'mne.preprocessing.ICA' instance with the arguments 'ICA(method='infomax', fit_params=dict(extended=True))' (scikit-learn) or 'ICA(method='picard', fit_params=dict(ortho=False, extended=True))' (python-picard).\n",
      "  ic_labels = label_components(raw_filter, ica, method=\"iclabel\")\n"
     ]
    },
    {
     "name": "stdout",
     "output_type": "stream",
     "text": [
      "Applying ICA to Raw instance\n",
      "    Transforming to ICA space (5 components)\n",
      "    Zeroing out 1 ICA component\n",
      "    Projecting back using 5 PCA components\n",
      "Filtering raw data in 1 contiguous segment\n",
      "Setting up band-pass filter from 2 - 45 Hz\n",
      "\n",
      "FIR filter parameters\n",
      "---------------------\n",
      "Designing a one-pass, zero-phase, non-causal bandpass filter:\n",
      "- Windowed time-domain design (firwin) method\n",
      "- Hamming window with 0.0194 passband ripple and 53 dB stopband attenuation\n",
      "- Lower passband edge: 2.00\n",
      "- Lower transition bandwidth: 2.00 Hz (-6 dB cutoff frequency: 1.00 Hz)\n",
      "- Upper passband edge: 45.00 Hz\n",
      "- Upper transition bandwidth: 11.25 Hz (-6 dB cutoff frequency: 50.62 Hz)\n",
      "- Filter length: 213 samples (1.664 s)\n",
      "\n",
      "Fitting ICA to data using 5 channels (please be patient, this may take a while)\n",
      "Selecting by number: 5 components\n",
      "Fitting ICA took 1.1s.\n",
      "NOTE: pick_channels() is a legacy function. New code should use inst.pick(...).\n"
     ]
    },
    {
     "name": "stderr",
     "output_type": "stream",
     "text": [
      "C:\\Users\\hp\\AppData\\Local\\Temp\\ipykernel_10316\\1468158900.py:19: RuntimeWarning: The provided Raw instance does not seem to be referenced to a common average reference (CAR). ICLabel was designed to classify features extracted from an EEG dataset referenced to a CAR (see the 'set_eeg_reference()' method for Raw and Epochs instances).\n",
      "  ic_labels = label_components(raw_filter, ica, method=\"iclabel\")\n",
      "C:\\Users\\hp\\AppData\\Local\\Temp\\ipykernel_10316\\1468158900.py:19: RuntimeWarning: The provided Raw instance is not filtered between 1 and 100 Hz. ICLabel was designed to classify features extracted from an EEG dataset bandpass filtered between 1 and 100 Hz (see the 'filter()' method for Raw and Epochs instances).\n",
      "  ic_labels = label_components(raw_filter, ica, method=\"iclabel\")\n",
      "C:\\Users\\hp\\AppData\\Local\\Temp\\ipykernel_10316\\1468158900.py:19: RuntimeWarning: The provided ICA instance was fitted with a 'fastica' algorithm. ICLabel was designed with extended infomax ICA decompositions. To use the extended infomax algorithm, use the 'mne.preprocessing.ICA' instance with the arguments 'ICA(method='infomax', fit_params=dict(extended=True))' (scikit-learn) or 'ICA(method='picard', fit_params=dict(ortho=False, extended=True))' (python-picard).\n",
      "  ic_labels = label_components(raw_filter, ica, method=\"iclabel\")\n"
     ]
    },
    {
     "name": "stdout",
     "output_type": "stream",
     "text": [
      "Applying ICA to Raw instance\n",
      "    Transforming to ICA space (5 components)\n",
      "    Zeroing out 2 ICA components\n",
      "    Projecting back using 5 PCA components\n",
      "Filtering raw data in 1 contiguous segment\n",
      "Setting up band-pass filter from 2 - 45 Hz\n",
      "\n",
      "FIR filter parameters\n",
      "---------------------\n",
      "Designing a one-pass, zero-phase, non-causal bandpass filter:\n",
      "- Windowed time-domain design (firwin) method\n",
      "- Hamming window with 0.0194 passband ripple and 53 dB stopband attenuation\n",
      "- Lower passband edge: 2.00\n",
      "- Lower transition bandwidth: 2.00 Hz (-6 dB cutoff frequency: 1.00 Hz)\n",
      "- Upper passband edge: 45.00 Hz\n",
      "- Upper transition bandwidth: 11.25 Hz (-6 dB cutoff frequency: 50.62 Hz)\n",
      "- Filter length: 213 samples (1.664 s)\n",
      "\n",
      "Fitting ICA to data using 5 channels (please be patient, this may take a while)\n",
      "Selecting by number: 5 components\n",
      "Fitting ICA took 0.2s.\n",
      "NOTE: pick_channels() is a legacy function. New code should use inst.pick(...).\n"
     ]
    },
    {
     "name": "stderr",
     "output_type": "stream",
     "text": [
      "C:\\Users\\hp\\AppData\\Local\\Temp\\ipykernel_10316\\1468158900.py:19: RuntimeWarning: The provided Raw instance does not seem to be referenced to a common average reference (CAR). ICLabel was designed to classify features extracted from an EEG dataset referenced to a CAR (see the 'set_eeg_reference()' method for Raw and Epochs instances).\n",
      "  ic_labels = label_components(raw_filter, ica, method=\"iclabel\")\n",
      "C:\\Users\\hp\\AppData\\Local\\Temp\\ipykernel_10316\\1468158900.py:19: RuntimeWarning: The provided Raw instance is not filtered between 1 and 100 Hz. ICLabel was designed to classify features extracted from an EEG dataset bandpass filtered between 1 and 100 Hz (see the 'filter()' method for Raw and Epochs instances).\n",
      "  ic_labels = label_components(raw_filter, ica, method=\"iclabel\")\n",
      "C:\\Users\\hp\\AppData\\Local\\Temp\\ipykernel_10316\\1468158900.py:19: RuntimeWarning: The provided ICA instance was fitted with a 'fastica' algorithm. ICLabel was designed with extended infomax ICA decompositions. To use the extended infomax algorithm, use the 'mne.preprocessing.ICA' instance with the arguments 'ICA(method='infomax', fit_params=dict(extended=True))' (scikit-learn) or 'ICA(method='picard', fit_params=dict(ortho=False, extended=True))' (python-picard).\n",
      "  ic_labels = label_components(raw_filter, ica, method=\"iclabel\")\n"
     ]
    },
    {
     "name": "stdout",
     "output_type": "stream",
     "text": [
      "Applying ICA to Raw instance\n",
      "    Transforming to ICA space (5 components)\n",
      "    Zeroing out 2 ICA components\n",
      "    Projecting back using 5 PCA components\n",
      "Effective window size : 16.000 (s)\n",
      "Effective window size : 16.000 (s)\n",
      "Effective window size : 16.000 (s)\n",
      "Reading D:\\VSCode\\Tesis\\Pengukuran\\Raw\\Base\\L2\\B2_002_s_rmb.fdt\n",
      "Reading 0 ... 125951  =      0.000 ...   983.992 secs...\n",
      "Filtering raw data in 1 contiguous segment\n",
      "Setting up band-pass filter from 2 - 45 Hz\n",
      "\n",
      "FIR filter parameters\n",
      "---------------------\n",
      "Designing a one-pass, zero-phase, non-causal bandpass filter:\n",
      "- Windowed time-domain design (firwin) method\n",
      "- Hamming window with 0.0194 passband ripple and 53 dB stopband attenuation\n",
      "- Lower passband edge: 2.00\n",
      "- Lower transition bandwidth: 2.00 Hz (-6 dB cutoff frequency: 1.00 Hz)\n",
      "- Upper passband edge: 45.00 Hz\n",
      "- Upper transition bandwidth: 11.25 Hz (-6 dB cutoff frequency: 50.62 Hz)\n",
      "- Filter length: 213 samples (1.664 s)\n",
      "\n",
      "Fitting ICA to data using 5 channels (please be patient, this may take a while)\n",
      "Selecting by number: 5 components\n"
     ]
    },
    {
     "name": "stderr",
     "output_type": "stream",
     "text": [
      "C:\\Users\\hp\\AppData\\Local\\Temp\\ipykernel_10316\\2395476139.py:6: RuntimeWarning: Data file name in EEG.data (002_s_rmb.fdt) is incorrect, the file name must have changed on disk, using the correct file name (B2_002_s_rmb.fdt).\n",
      "  raw = mne.io.read_raw_eeglab(os.path.join(folder, eeg_file), preload=True)\n"
     ]
    },
    {
     "name": "stdout",
     "output_type": "stream",
     "text": [
      "Fitting ICA took 0.4s.\n",
      "NOTE: pick_channels() is a legacy function. New code should use inst.pick(...).\n"
     ]
    },
    {
     "name": "stderr",
     "output_type": "stream",
     "text": [
      "C:\\Users\\hp\\AppData\\Local\\Temp\\ipykernel_10316\\1468158900.py:19: RuntimeWarning: The provided Raw instance does not seem to be referenced to a common average reference (CAR). ICLabel was designed to classify features extracted from an EEG dataset referenced to a CAR (see the 'set_eeg_reference()' method for Raw and Epochs instances).\n",
      "  ic_labels = label_components(raw_filter, ica, method=\"iclabel\")\n",
      "C:\\Users\\hp\\AppData\\Local\\Temp\\ipykernel_10316\\1468158900.py:19: RuntimeWarning: The provided Raw instance is not filtered between 1 and 100 Hz. ICLabel was designed to classify features extracted from an EEG dataset bandpass filtered between 1 and 100 Hz (see the 'filter()' method for Raw and Epochs instances).\n",
      "  ic_labels = label_components(raw_filter, ica, method=\"iclabel\")\n",
      "C:\\Users\\hp\\AppData\\Local\\Temp\\ipykernel_10316\\1468158900.py:19: RuntimeWarning: The provided ICA instance was fitted with a 'fastica' algorithm. ICLabel was designed with extended infomax ICA decompositions. To use the extended infomax algorithm, use the 'mne.preprocessing.ICA' instance with the arguments 'ICA(method='infomax', fit_params=dict(extended=True))' (scikit-learn) or 'ICA(method='picard', fit_params=dict(ortho=False, extended=True))' (python-picard).\n",
      "  ic_labels = label_components(raw_filter, ica, method=\"iclabel\")\n"
     ]
    },
    {
     "name": "stdout",
     "output_type": "stream",
     "text": [
      "Applying ICA to Raw instance\n",
      "    Transforming to ICA space (5 components)\n",
      "    Zeroing out 1 ICA component\n",
      "    Projecting back using 5 PCA components\n",
      "Filtering raw data in 1 contiguous segment\n",
      "Setting up band-pass filter from 2 - 45 Hz\n",
      "\n",
      "FIR filter parameters\n",
      "---------------------\n",
      "Designing a one-pass, zero-phase, non-causal bandpass filter:\n",
      "- Windowed time-domain design (firwin) method\n",
      "- Hamming window with 0.0194 passband ripple and 53 dB stopband attenuation\n",
      "- Lower passband edge: 2.00\n",
      "- Lower transition bandwidth: 2.00 Hz (-6 dB cutoff frequency: 1.00 Hz)\n",
      "- Upper passband edge: 45.00 Hz\n",
      "- Upper transition bandwidth: 11.25 Hz (-6 dB cutoff frequency: 50.62 Hz)\n",
      "- Filter length: 213 samples (1.664 s)\n",
      "\n",
      "Fitting ICA to data using 5 channels (please be patient, this may take a while)\n",
      "Selecting by number: 5 components\n",
      "Fitting ICA took 2.0s.\n",
      "NOTE: pick_channels() is a legacy function. New code should use inst.pick(...).\n"
     ]
    },
    {
     "name": "stderr",
     "output_type": "stream",
     "text": [
      "C:\\Users\\hp\\AppData\\Local\\Temp\\ipykernel_10316\\1468158900.py:19: RuntimeWarning: The provided Raw instance does not seem to be referenced to a common average reference (CAR). ICLabel was designed to classify features extracted from an EEG dataset referenced to a CAR (see the 'set_eeg_reference()' method for Raw and Epochs instances).\n",
      "  ic_labels = label_components(raw_filter, ica, method=\"iclabel\")\n",
      "C:\\Users\\hp\\AppData\\Local\\Temp\\ipykernel_10316\\1468158900.py:19: RuntimeWarning: The provided Raw instance is not filtered between 1 and 100 Hz. ICLabel was designed to classify features extracted from an EEG dataset bandpass filtered between 1 and 100 Hz (see the 'filter()' method for Raw and Epochs instances).\n",
      "  ic_labels = label_components(raw_filter, ica, method=\"iclabel\")\n",
      "C:\\Users\\hp\\AppData\\Local\\Temp\\ipykernel_10316\\1468158900.py:19: RuntimeWarning: The provided ICA instance was fitted with a 'fastica' algorithm. ICLabel was designed with extended infomax ICA decompositions. To use the extended infomax algorithm, use the 'mne.preprocessing.ICA' instance with the arguments 'ICA(method='infomax', fit_params=dict(extended=True))' (scikit-learn) or 'ICA(method='picard', fit_params=dict(ortho=False, extended=True))' (python-picard).\n",
      "  ic_labels = label_components(raw_filter, ica, method=\"iclabel\")\n"
     ]
    },
    {
     "name": "stdout",
     "output_type": "stream",
     "text": [
      "Applying ICA to Raw instance\n",
      "    Transforming to ICA space (5 components)\n",
      "    Zeroing out 2 ICA components\n",
      "    Projecting back using 5 PCA components\n",
      "Filtering raw data in 1 contiguous segment\n",
      "Setting up band-pass filter from 2 - 45 Hz\n",
      "\n",
      "FIR filter parameters\n",
      "---------------------\n",
      "Designing a one-pass, zero-phase, non-causal bandpass filter:\n",
      "- Windowed time-domain design (firwin) method\n",
      "- Hamming window with 0.0194 passband ripple and 53 dB stopband attenuation\n",
      "- Lower passband edge: 2.00\n",
      "- Lower transition bandwidth: 2.00 Hz (-6 dB cutoff frequency: 1.00 Hz)\n",
      "- Upper passband edge: 45.00 Hz\n",
      "- Upper transition bandwidth: 11.25 Hz (-6 dB cutoff frequency: 50.62 Hz)\n",
      "- Filter length: 213 samples (1.664 s)\n",
      "\n",
      "Fitting ICA to data using 5 channels (please be patient, this may take a while)\n",
      "Selecting by number: 5 components\n",
      "Fitting ICA took 0.2s.\n",
      "NOTE: pick_channels() is a legacy function. New code should use inst.pick(...).\n"
     ]
    },
    {
     "name": "stderr",
     "output_type": "stream",
     "text": [
      "C:\\Users\\hp\\AppData\\Local\\Temp\\ipykernel_10316\\1468158900.py:19: RuntimeWarning: The provided Raw instance does not seem to be referenced to a common average reference (CAR). ICLabel was designed to classify features extracted from an EEG dataset referenced to a CAR (see the 'set_eeg_reference()' method for Raw and Epochs instances).\n",
      "  ic_labels = label_components(raw_filter, ica, method=\"iclabel\")\n",
      "C:\\Users\\hp\\AppData\\Local\\Temp\\ipykernel_10316\\1468158900.py:19: RuntimeWarning: The provided Raw instance is not filtered between 1 and 100 Hz. ICLabel was designed to classify features extracted from an EEG dataset bandpass filtered between 1 and 100 Hz (see the 'filter()' method for Raw and Epochs instances).\n",
      "  ic_labels = label_components(raw_filter, ica, method=\"iclabel\")\n",
      "C:\\Users\\hp\\AppData\\Local\\Temp\\ipykernel_10316\\1468158900.py:19: RuntimeWarning: The provided ICA instance was fitted with a 'fastica' algorithm. ICLabel was designed with extended infomax ICA decompositions. To use the extended infomax algorithm, use the 'mne.preprocessing.ICA' instance with the arguments 'ICA(method='infomax', fit_params=dict(extended=True))' (scikit-learn) or 'ICA(method='picard', fit_params=dict(ortho=False, extended=True))' (python-picard).\n",
      "  ic_labels = label_components(raw_filter, ica, method=\"iclabel\")\n"
     ]
    },
    {
     "name": "stdout",
     "output_type": "stream",
     "text": [
      "Applying ICA to Raw instance\n",
      "    Transforming to ICA space (5 components)\n",
      "    Zeroing out 1 ICA component\n",
      "    Projecting back using 5 PCA components\n",
      "Effective window size : 16.000 (s)\n",
      "Effective window size : 16.000 (s)\n",
      "Effective window size : 16.000 (s)\n",
      "Reading D:\\VSCode\\Tesis\\Pengukuran\\Raw\\Base\\L2\\B3_004_s_rmb.fdt\n",
      "Reading 0 ... 125055  =      0.000 ...   976.992 secs...\n",
      "Filtering raw data in 1 contiguous segment\n",
      "Setting up band-pass filter from 2 - 45 Hz\n",
      "\n",
      "FIR filter parameters\n",
      "---------------------\n",
      "Designing a one-pass, zero-phase, non-causal bandpass filter:\n",
      "- Windowed time-domain design (firwin) method\n",
      "- Hamming window with 0.0194 passband ripple and 53 dB stopband attenuation\n",
      "- Lower passband edge: 2.00\n",
      "- Lower transition bandwidth: 2.00 Hz (-6 dB cutoff frequency: 1.00 Hz)\n",
      "- Upper passband edge: 45.00 Hz\n",
      "- Upper transition bandwidth: 11.25 Hz (-6 dB cutoff frequency: 50.62 Hz)\n",
      "- Filter length: 213 samples (1.664 s)\n",
      "\n",
      "Fitting ICA to data using 5 channels (please be patient, this may take a while)\n",
      "Selecting by number: 5 components\n"
     ]
    },
    {
     "name": "stderr",
     "output_type": "stream",
     "text": [
      "C:\\Users\\hp\\AppData\\Local\\Temp\\ipykernel_10316\\2395476139.py:6: RuntimeWarning: Data file name in EEG.data (004_s_rmb.fdt) is incorrect, the file name must have changed on disk, using the correct file name (B3_004_s_rmb.fdt).\n",
      "  raw = mne.io.read_raw_eeglab(os.path.join(folder, eeg_file), preload=True)\n"
     ]
    },
    {
     "name": "stdout",
     "output_type": "stream",
     "text": [
      "Fitting ICA took 0.2s.\n",
      "NOTE: pick_channels() is a legacy function. New code should use inst.pick(...).\n"
     ]
    },
    {
     "name": "stderr",
     "output_type": "stream",
     "text": [
      "C:\\Users\\hp\\AppData\\Local\\Temp\\ipykernel_10316\\1468158900.py:19: RuntimeWarning: The provided Raw instance does not seem to be referenced to a common average reference (CAR). ICLabel was designed to classify features extracted from an EEG dataset referenced to a CAR (see the 'set_eeg_reference()' method for Raw and Epochs instances).\n",
      "  ic_labels = label_components(raw_filter, ica, method=\"iclabel\")\n",
      "C:\\Users\\hp\\AppData\\Local\\Temp\\ipykernel_10316\\1468158900.py:19: RuntimeWarning: The provided Raw instance is not filtered between 1 and 100 Hz. ICLabel was designed to classify features extracted from an EEG dataset bandpass filtered between 1 and 100 Hz (see the 'filter()' method for Raw and Epochs instances).\n",
      "  ic_labels = label_components(raw_filter, ica, method=\"iclabel\")\n",
      "C:\\Users\\hp\\AppData\\Local\\Temp\\ipykernel_10316\\1468158900.py:19: RuntimeWarning: The provided ICA instance was fitted with a 'fastica' algorithm. ICLabel was designed with extended infomax ICA decompositions. To use the extended infomax algorithm, use the 'mne.preprocessing.ICA' instance with the arguments 'ICA(method='infomax', fit_params=dict(extended=True))' (scikit-learn) or 'ICA(method='picard', fit_params=dict(ortho=False, extended=True))' (python-picard).\n",
      "  ic_labels = label_components(raw_filter, ica, method=\"iclabel\")\n"
     ]
    },
    {
     "name": "stdout",
     "output_type": "stream",
     "text": [
      "Applying ICA to Raw instance\n",
      "    Transforming to ICA space (5 components)\n",
      "    Zeroing out 2 ICA components\n",
      "    Projecting back using 5 PCA components\n",
      "Filtering raw data in 1 contiguous segment\n",
      "Setting up band-pass filter from 2 - 45 Hz\n",
      "\n",
      "FIR filter parameters\n",
      "---------------------\n",
      "Designing a one-pass, zero-phase, non-causal bandpass filter:\n",
      "- Windowed time-domain design (firwin) method\n",
      "- Hamming window with 0.0194 passband ripple and 53 dB stopband attenuation\n",
      "- Lower passband edge: 2.00\n",
      "- Lower transition bandwidth: 2.00 Hz (-6 dB cutoff frequency: 1.00 Hz)\n",
      "- Upper passband edge: 45.00 Hz\n",
      "- Upper transition bandwidth: 11.25 Hz (-6 dB cutoff frequency: 50.62 Hz)\n",
      "- Filter length: 213 samples (1.664 s)\n",
      "\n",
      "Fitting ICA to data using 5 channels (please be patient, this may take a while)\n",
      "Selecting by number: 5 components\n",
      "Fitting ICA took 1.4s.\n",
      "NOTE: pick_channels() is a legacy function. New code should use inst.pick(...).\n"
     ]
    },
    {
     "name": "stderr",
     "output_type": "stream",
     "text": [
      "C:\\Users\\hp\\AppData\\Local\\Temp\\ipykernel_10316\\1468158900.py:19: RuntimeWarning: The provided Raw instance does not seem to be referenced to a common average reference (CAR). ICLabel was designed to classify features extracted from an EEG dataset referenced to a CAR (see the 'set_eeg_reference()' method for Raw and Epochs instances).\n",
      "  ic_labels = label_components(raw_filter, ica, method=\"iclabel\")\n",
      "C:\\Users\\hp\\AppData\\Local\\Temp\\ipykernel_10316\\1468158900.py:19: RuntimeWarning: The provided Raw instance is not filtered between 1 and 100 Hz. ICLabel was designed to classify features extracted from an EEG dataset bandpass filtered between 1 and 100 Hz (see the 'filter()' method for Raw and Epochs instances).\n",
      "  ic_labels = label_components(raw_filter, ica, method=\"iclabel\")\n",
      "C:\\Users\\hp\\AppData\\Local\\Temp\\ipykernel_10316\\1468158900.py:19: RuntimeWarning: The provided ICA instance was fitted with a 'fastica' algorithm. ICLabel was designed with extended infomax ICA decompositions. To use the extended infomax algorithm, use the 'mne.preprocessing.ICA' instance with the arguments 'ICA(method='infomax', fit_params=dict(extended=True))' (scikit-learn) or 'ICA(method='picard', fit_params=dict(ortho=False, extended=True))' (python-picard).\n",
      "  ic_labels = label_components(raw_filter, ica, method=\"iclabel\")\n"
     ]
    },
    {
     "name": "stdout",
     "output_type": "stream",
     "text": [
      "Applying ICA to Raw instance\n",
      "    Transforming to ICA space (5 components)\n",
      "    Zeroing out 2 ICA components\n",
      "    Projecting back using 5 PCA components\n",
      "Filtering raw data in 1 contiguous segment\n",
      "Setting up band-pass filter from 2 - 45 Hz\n",
      "\n",
      "FIR filter parameters\n",
      "---------------------\n",
      "Designing a one-pass, zero-phase, non-causal bandpass filter:\n",
      "- Windowed time-domain design (firwin) method\n",
      "- Hamming window with 0.0194 passband ripple and 53 dB stopband attenuation\n",
      "- Lower passband edge: 2.00\n",
      "- Lower transition bandwidth: 2.00 Hz (-6 dB cutoff frequency: 1.00 Hz)\n",
      "- Upper passband edge: 45.00 Hz\n",
      "- Upper transition bandwidth: 11.25 Hz (-6 dB cutoff frequency: 50.62 Hz)\n",
      "- Filter length: 213 samples (1.664 s)\n",
      "\n",
      "Fitting ICA to data using 5 channels (please be patient, this may take a while)\n",
      "Selecting by number: 5 components\n",
      "Fitting ICA took 0.3s.\n",
      "NOTE: pick_channels() is a legacy function. New code should use inst.pick(...).\n"
     ]
    },
    {
     "name": "stderr",
     "output_type": "stream",
     "text": [
      "C:\\Users\\hp\\AppData\\Local\\Temp\\ipykernel_10316\\1468158900.py:19: RuntimeWarning: The provided Raw instance does not seem to be referenced to a common average reference (CAR). ICLabel was designed to classify features extracted from an EEG dataset referenced to a CAR (see the 'set_eeg_reference()' method for Raw and Epochs instances).\n",
      "  ic_labels = label_components(raw_filter, ica, method=\"iclabel\")\n",
      "C:\\Users\\hp\\AppData\\Local\\Temp\\ipykernel_10316\\1468158900.py:19: RuntimeWarning: The provided Raw instance is not filtered between 1 and 100 Hz. ICLabel was designed to classify features extracted from an EEG dataset bandpass filtered between 1 and 100 Hz (see the 'filter()' method for Raw and Epochs instances).\n",
      "  ic_labels = label_components(raw_filter, ica, method=\"iclabel\")\n",
      "C:\\Users\\hp\\AppData\\Local\\Temp\\ipykernel_10316\\1468158900.py:19: RuntimeWarning: The provided ICA instance was fitted with a 'fastica' algorithm. ICLabel was designed with extended infomax ICA decompositions. To use the extended infomax algorithm, use the 'mne.preprocessing.ICA' instance with the arguments 'ICA(method='infomax', fit_params=dict(extended=True))' (scikit-learn) or 'ICA(method='picard', fit_params=dict(ortho=False, extended=True))' (python-picard).\n",
      "  ic_labels = label_components(raw_filter, ica, method=\"iclabel\")\n"
     ]
    },
    {
     "name": "stdout",
     "output_type": "stream",
     "text": [
      "Applying ICA to Raw instance\n",
      "    Transforming to ICA space (5 components)\n",
      "    Zeroing out 2 ICA components\n",
      "    Projecting back using 5 PCA components\n",
      "Effective window size : 16.000 (s)\n",
      "Effective window size : 16.000 (s)\n",
      "Effective window size : 16.000 (s)\n",
      "Reading D:\\VSCode\\Tesis\\Pengukuran\\Raw\\Base\\L2\\B4_005_s_rmb.fdt\n",
      "Reading 0 ... 121087  =      0.000 ...   945.992 secs...\n",
      "Filtering raw data in 1 contiguous segment\n",
      "Setting up band-pass filter from 2 - 45 Hz\n",
      "\n",
      "FIR filter parameters\n",
      "---------------------\n",
      "Designing a one-pass, zero-phase, non-causal bandpass filter:\n",
      "- Windowed time-domain design (firwin) method\n",
      "- Hamming window with 0.0194 passband ripple and 53 dB stopband attenuation\n",
      "- Lower passband edge: 2.00\n",
      "- Lower transition bandwidth: 2.00 Hz (-6 dB cutoff frequency: 1.00 Hz)\n",
      "- Upper passband edge: 45.00 Hz\n",
      "- Upper transition bandwidth: 11.25 Hz (-6 dB cutoff frequency: 50.62 Hz)\n",
      "- Filter length: 213 samples (1.664 s)\n",
      "\n",
      "Fitting ICA to data using 5 channels (please be patient, this may take a while)\n",
      "Selecting by number: 5 components\n"
     ]
    },
    {
     "name": "stderr",
     "output_type": "stream",
     "text": [
      "C:\\Users\\hp\\AppData\\Local\\Temp\\ipykernel_10316\\2395476139.py:6: RuntimeWarning: Data file name in EEG.data (005_s_rmb.fdt) is incorrect, the file name must have changed on disk, using the correct file name (B4_005_s_rmb.fdt).\n",
      "  raw = mne.io.read_raw_eeglab(os.path.join(folder, eeg_file), preload=True)\n"
     ]
    },
    {
     "name": "stdout",
     "output_type": "stream",
     "text": [
      "Fitting ICA took 0.2s.\n",
      "NOTE: pick_channels() is a legacy function. New code should use inst.pick(...).\n"
     ]
    },
    {
     "name": "stderr",
     "output_type": "stream",
     "text": [
      "C:\\Users\\hp\\AppData\\Local\\Temp\\ipykernel_10316\\1468158900.py:19: RuntimeWarning: The provided Raw instance does not seem to be referenced to a common average reference (CAR). ICLabel was designed to classify features extracted from an EEG dataset referenced to a CAR (see the 'set_eeg_reference()' method for Raw and Epochs instances).\n",
      "  ic_labels = label_components(raw_filter, ica, method=\"iclabel\")\n",
      "C:\\Users\\hp\\AppData\\Local\\Temp\\ipykernel_10316\\1468158900.py:19: RuntimeWarning: The provided Raw instance is not filtered between 1 and 100 Hz. ICLabel was designed to classify features extracted from an EEG dataset bandpass filtered between 1 and 100 Hz (see the 'filter()' method for Raw and Epochs instances).\n",
      "  ic_labels = label_components(raw_filter, ica, method=\"iclabel\")\n",
      "C:\\Users\\hp\\AppData\\Local\\Temp\\ipykernel_10316\\1468158900.py:19: RuntimeWarning: The provided ICA instance was fitted with a 'fastica' algorithm. ICLabel was designed with extended infomax ICA decompositions. To use the extended infomax algorithm, use the 'mne.preprocessing.ICA' instance with the arguments 'ICA(method='infomax', fit_params=dict(extended=True))' (scikit-learn) or 'ICA(method='picard', fit_params=dict(ortho=False, extended=True))' (python-picard).\n",
      "  ic_labels = label_components(raw_filter, ica, method=\"iclabel\")\n"
     ]
    },
    {
     "name": "stdout",
     "output_type": "stream",
     "text": [
      "Applying ICA to Raw instance\n",
      "    Transforming to ICA space (5 components)\n",
      "    Zeroing out 2 ICA components\n",
      "    Projecting back using 5 PCA components\n",
      "Filtering raw data in 1 contiguous segment\n",
      "Setting up band-pass filter from 2 - 45 Hz\n",
      "\n",
      "FIR filter parameters\n",
      "---------------------\n",
      "Designing a one-pass, zero-phase, non-causal bandpass filter:\n",
      "- Windowed time-domain design (firwin) method\n",
      "- Hamming window with 0.0194 passband ripple and 53 dB stopband attenuation\n",
      "- Lower passband edge: 2.00\n",
      "- Lower transition bandwidth: 2.00 Hz (-6 dB cutoff frequency: 1.00 Hz)\n",
      "- Upper passband edge: 45.00 Hz\n",
      "- Upper transition bandwidth: 11.25 Hz (-6 dB cutoff frequency: 50.62 Hz)\n",
      "- Filter length: 213 samples (1.664 s)\n",
      "\n",
      "Fitting ICA to data using 5 channels (please be patient, this may take a while)\n",
      "Selecting by number: 5 components\n",
      "Fitting ICA took 1.6s.\n",
      "NOTE: pick_channels() is a legacy function. New code should use inst.pick(...).\n"
     ]
    },
    {
     "name": "stderr",
     "output_type": "stream",
     "text": [
      "C:\\Users\\hp\\AppData\\Local\\Temp\\ipykernel_10316\\1468158900.py:19: RuntimeWarning: The provided Raw instance does not seem to be referenced to a common average reference (CAR). ICLabel was designed to classify features extracted from an EEG dataset referenced to a CAR (see the 'set_eeg_reference()' method for Raw and Epochs instances).\n",
      "  ic_labels = label_components(raw_filter, ica, method=\"iclabel\")\n",
      "C:\\Users\\hp\\AppData\\Local\\Temp\\ipykernel_10316\\1468158900.py:19: RuntimeWarning: The provided Raw instance is not filtered between 1 and 100 Hz. ICLabel was designed to classify features extracted from an EEG dataset bandpass filtered between 1 and 100 Hz (see the 'filter()' method for Raw and Epochs instances).\n",
      "  ic_labels = label_components(raw_filter, ica, method=\"iclabel\")\n",
      "C:\\Users\\hp\\AppData\\Local\\Temp\\ipykernel_10316\\1468158900.py:19: RuntimeWarning: The provided ICA instance was fitted with a 'fastica' algorithm. ICLabel was designed with extended infomax ICA decompositions. To use the extended infomax algorithm, use the 'mne.preprocessing.ICA' instance with the arguments 'ICA(method='infomax', fit_params=dict(extended=True))' (scikit-learn) or 'ICA(method='picard', fit_params=dict(ortho=False, extended=True))' (python-picard).\n",
      "  ic_labels = label_components(raw_filter, ica, method=\"iclabel\")\n"
     ]
    },
    {
     "name": "stdout",
     "output_type": "stream",
     "text": [
      "Applying ICA to Raw instance\n",
      "    Transforming to ICA space (5 components)\n",
      "    Zeroing out 3 ICA components\n",
      "    Projecting back using 5 PCA components\n",
      "Filtering raw data in 1 contiguous segment\n",
      "Setting up band-pass filter from 2 - 45 Hz\n",
      "\n",
      "FIR filter parameters\n",
      "---------------------\n",
      "Designing a one-pass, zero-phase, non-causal bandpass filter:\n",
      "- Windowed time-domain design (firwin) method\n",
      "- Hamming window with 0.0194 passband ripple and 53 dB stopband attenuation\n",
      "- Lower passband edge: 2.00\n",
      "- Lower transition bandwidth: 2.00 Hz (-6 dB cutoff frequency: 1.00 Hz)\n",
      "- Upper passband edge: 45.00 Hz\n",
      "- Upper transition bandwidth: 11.25 Hz (-6 dB cutoff frequency: 50.62 Hz)\n",
      "- Filter length: 213 samples (1.664 s)\n",
      "\n",
      "Fitting ICA to data using 5 channels (please be patient, this may take a while)\n",
      "Selecting by number: 5 components\n",
      "Fitting ICA took 0.3s.\n",
      "NOTE: pick_channels() is a legacy function. New code should use inst.pick(...).\n"
     ]
    },
    {
     "name": "stderr",
     "output_type": "stream",
     "text": [
      "C:\\Users\\hp\\AppData\\Local\\Temp\\ipykernel_10316\\1468158900.py:19: RuntimeWarning: The provided Raw instance does not seem to be referenced to a common average reference (CAR). ICLabel was designed to classify features extracted from an EEG dataset referenced to a CAR (see the 'set_eeg_reference()' method for Raw and Epochs instances).\n",
      "  ic_labels = label_components(raw_filter, ica, method=\"iclabel\")\n",
      "C:\\Users\\hp\\AppData\\Local\\Temp\\ipykernel_10316\\1468158900.py:19: RuntimeWarning: The provided Raw instance is not filtered between 1 and 100 Hz. ICLabel was designed to classify features extracted from an EEG dataset bandpass filtered between 1 and 100 Hz (see the 'filter()' method for Raw and Epochs instances).\n",
      "  ic_labels = label_components(raw_filter, ica, method=\"iclabel\")\n",
      "C:\\Users\\hp\\AppData\\Local\\Temp\\ipykernel_10316\\1468158900.py:19: RuntimeWarning: The provided ICA instance was fitted with a 'fastica' algorithm. ICLabel was designed with extended infomax ICA decompositions. To use the extended infomax algorithm, use the 'mne.preprocessing.ICA' instance with the arguments 'ICA(method='infomax', fit_params=dict(extended=True))' (scikit-learn) or 'ICA(method='picard', fit_params=dict(ortho=False, extended=True))' (python-picard).\n",
      "  ic_labels = label_components(raw_filter, ica, method=\"iclabel\")\n"
     ]
    },
    {
     "name": "stdout",
     "output_type": "stream",
     "text": [
      "Applying ICA to Raw instance\n",
      "    Transforming to ICA space (5 components)\n",
      "    Zeroing out 1 ICA component\n",
      "    Projecting back using 5 PCA components\n",
      "Effective window size : 16.000 (s)\n",
      "Effective window size : 16.000 (s)\n",
      "Effective window size : 16.000 (s)\n",
      "Reading D:\\VSCode\\Tesis\\Pengukuran\\Raw\\Base\\L2\\B5_010_s_rmb.fdt\n",
      "Reading 0 ... 126591  =      0.000 ...   988.992 secs...\n",
      "Filtering raw data in 1 contiguous segment\n",
      "Setting up band-pass filter from 2 - 45 Hz\n",
      "\n",
      "FIR filter parameters\n",
      "---------------------\n",
      "Designing a one-pass, zero-phase, non-causal bandpass filter:\n",
      "- Windowed time-domain design (firwin) method\n",
      "- Hamming window with 0.0194 passband ripple and 53 dB stopband attenuation\n",
      "- Lower passband edge: 2.00\n",
      "- Lower transition bandwidth: 2.00 Hz (-6 dB cutoff frequency: 1.00 Hz)\n",
      "- Upper passband edge: 45.00 Hz\n",
      "- Upper transition bandwidth: 11.25 Hz (-6 dB cutoff frequency: 50.62 Hz)\n",
      "- Filter length: 213 samples (1.664 s)\n",
      "\n",
      "Fitting ICA to data using 5 channels (please be patient, this may take a while)\n",
      "Selecting by number: 5 components\n"
     ]
    },
    {
     "name": "stderr",
     "output_type": "stream",
     "text": [
      "C:\\Users\\hp\\AppData\\Local\\Temp\\ipykernel_10316\\2395476139.py:6: RuntimeWarning: Data file name in EEG.data (010_s_rmb.fdt) is incorrect, the file name must have changed on disk, using the correct file name (B5_010_s_rmb.fdt).\n",
      "  raw = mne.io.read_raw_eeglab(os.path.join(folder, eeg_file), preload=True)\n"
     ]
    },
    {
     "name": "stdout",
     "output_type": "stream",
     "text": [
      "Fitting ICA took 0.3s.\n",
      "NOTE: pick_channels() is a legacy function. New code should use inst.pick(...).\n"
     ]
    },
    {
     "name": "stderr",
     "output_type": "stream",
     "text": [
      "C:\\Users\\hp\\AppData\\Local\\Temp\\ipykernel_10316\\1468158900.py:19: RuntimeWarning: The provided Raw instance does not seem to be referenced to a common average reference (CAR). ICLabel was designed to classify features extracted from an EEG dataset referenced to a CAR (see the 'set_eeg_reference()' method for Raw and Epochs instances).\n",
      "  ic_labels = label_components(raw_filter, ica, method=\"iclabel\")\n",
      "C:\\Users\\hp\\AppData\\Local\\Temp\\ipykernel_10316\\1468158900.py:19: RuntimeWarning: The provided Raw instance is not filtered between 1 and 100 Hz. ICLabel was designed to classify features extracted from an EEG dataset bandpass filtered between 1 and 100 Hz (see the 'filter()' method for Raw and Epochs instances).\n",
      "  ic_labels = label_components(raw_filter, ica, method=\"iclabel\")\n",
      "C:\\Users\\hp\\AppData\\Local\\Temp\\ipykernel_10316\\1468158900.py:19: RuntimeWarning: The provided ICA instance was fitted with a 'fastica' algorithm. ICLabel was designed with extended infomax ICA decompositions. To use the extended infomax algorithm, use the 'mne.preprocessing.ICA' instance with the arguments 'ICA(method='infomax', fit_params=dict(extended=True))' (scikit-learn) or 'ICA(method='picard', fit_params=dict(ortho=False, extended=True))' (python-picard).\n",
      "  ic_labels = label_components(raw_filter, ica, method=\"iclabel\")\n"
     ]
    },
    {
     "name": "stdout",
     "output_type": "stream",
     "text": [
      "Applying ICA to Raw instance\n",
      "    Transforming to ICA space (5 components)\n",
      "    Zeroing out 1 ICA component\n",
      "    Projecting back using 5 PCA components\n",
      "Filtering raw data in 1 contiguous segment\n",
      "Setting up band-pass filter from 2 - 45 Hz\n",
      "\n",
      "FIR filter parameters\n",
      "---------------------\n",
      "Designing a one-pass, zero-phase, non-causal bandpass filter:\n",
      "- Windowed time-domain design (firwin) method\n",
      "- Hamming window with 0.0194 passband ripple and 53 dB stopband attenuation\n",
      "- Lower passband edge: 2.00\n",
      "- Lower transition bandwidth: 2.00 Hz (-6 dB cutoff frequency: 1.00 Hz)\n",
      "- Upper passband edge: 45.00 Hz\n",
      "- Upper transition bandwidth: 11.25 Hz (-6 dB cutoff frequency: 50.62 Hz)\n",
      "- Filter length: 213 samples (1.664 s)\n",
      "\n",
      "Fitting ICA to data using 5 channels (please be patient, this may take a while)\n",
      "Selecting by number: 5 components\n",
      "Fitting ICA took 1.6s.\n",
      "NOTE: pick_channels() is a legacy function. New code should use inst.pick(...).\n"
     ]
    },
    {
     "name": "stderr",
     "output_type": "stream",
     "text": [
      "C:\\Users\\hp\\AppData\\Local\\Temp\\ipykernel_10316\\1468158900.py:19: RuntimeWarning: The provided Raw instance does not seem to be referenced to a common average reference (CAR). ICLabel was designed to classify features extracted from an EEG dataset referenced to a CAR (see the 'set_eeg_reference()' method for Raw and Epochs instances).\n",
      "  ic_labels = label_components(raw_filter, ica, method=\"iclabel\")\n",
      "C:\\Users\\hp\\AppData\\Local\\Temp\\ipykernel_10316\\1468158900.py:19: RuntimeWarning: The provided Raw instance is not filtered between 1 and 100 Hz. ICLabel was designed to classify features extracted from an EEG dataset bandpass filtered between 1 and 100 Hz (see the 'filter()' method for Raw and Epochs instances).\n",
      "  ic_labels = label_components(raw_filter, ica, method=\"iclabel\")\n",
      "C:\\Users\\hp\\AppData\\Local\\Temp\\ipykernel_10316\\1468158900.py:19: RuntimeWarning: The provided ICA instance was fitted with a 'fastica' algorithm. ICLabel was designed with extended infomax ICA decompositions. To use the extended infomax algorithm, use the 'mne.preprocessing.ICA' instance with the arguments 'ICA(method='infomax', fit_params=dict(extended=True))' (scikit-learn) or 'ICA(method='picard', fit_params=dict(ortho=False, extended=True))' (python-picard).\n",
      "  ic_labels = label_components(raw_filter, ica, method=\"iclabel\")\n"
     ]
    },
    {
     "name": "stdout",
     "output_type": "stream",
     "text": [
      "Applying ICA to Raw instance\n",
      "    Transforming to ICA space (5 components)\n",
      "    Zeroing out 3 ICA components\n",
      "    Projecting back using 5 PCA components\n",
      "Filtering raw data in 1 contiguous segment\n",
      "Setting up band-pass filter from 2 - 45 Hz\n",
      "\n",
      "FIR filter parameters\n",
      "---------------------\n",
      "Designing a one-pass, zero-phase, non-causal bandpass filter:\n",
      "- Windowed time-domain design (firwin) method\n",
      "- Hamming window with 0.0194 passband ripple and 53 dB stopband attenuation\n",
      "- Lower passband edge: 2.00\n",
      "- Lower transition bandwidth: 2.00 Hz (-6 dB cutoff frequency: 1.00 Hz)\n",
      "- Upper passband edge: 45.00 Hz\n",
      "- Upper transition bandwidth: 11.25 Hz (-6 dB cutoff frequency: 50.62 Hz)\n",
      "- Filter length: 213 samples (1.664 s)\n",
      "\n",
      "Fitting ICA to data using 5 channels (please be patient, this may take a while)\n",
      "Selecting by number: 5 components\n",
      "Fitting ICA took 0.2s.\n",
      "NOTE: pick_channels() is a legacy function. New code should use inst.pick(...).\n"
     ]
    },
    {
     "name": "stderr",
     "output_type": "stream",
     "text": [
      "C:\\Users\\hp\\AppData\\Local\\Temp\\ipykernel_10316\\1468158900.py:19: RuntimeWarning: The provided Raw instance does not seem to be referenced to a common average reference (CAR). ICLabel was designed to classify features extracted from an EEG dataset referenced to a CAR (see the 'set_eeg_reference()' method for Raw and Epochs instances).\n",
      "  ic_labels = label_components(raw_filter, ica, method=\"iclabel\")\n",
      "C:\\Users\\hp\\AppData\\Local\\Temp\\ipykernel_10316\\1468158900.py:19: RuntimeWarning: The provided Raw instance is not filtered between 1 and 100 Hz. ICLabel was designed to classify features extracted from an EEG dataset bandpass filtered between 1 and 100 Hz (see the 'filter()' method for Raw and Epochs instances).\n",
      "  ic_labels = label_components(raw_filter, ica, method=\"iclabel\")\n",
      "C:\\Users\\hp\\AppData\\Local\\Temp\\ipykernel_10316\\1468158900.py:19: RuntimeWarning: The provided ICA instance was fitted with a 'fastica' algorithm. ICLabel was designed with extended infomax ICA decompositions. To use the extended infomax algorithm, use the 'mne.preprocessing.ICA' instance with the arguments 'ICA(method='infomax', fit_params=dict(extended=True))' (scikit-learn) or 'ICA(method='picard', fit_params=dict(ortho=False, extended=True))' (python-picard).\n",
      "  ic_labels = label_components(raw_filter, ica, method=\"iclabel\")\n"
     ]
    },
    {
     "name": "stdout",
     "output_type": "stream",
     "text": [
      "Applying ICA to Raw instance\n",
      "    Transforming to ICA space (5 components)\n",
      "    Zeroing out 2 ICA components\n",
      "    Projecting back using 5 PCA components\n",
      "Effective window size : 16.000 (s)\n",
      "Effective window size : 16.000 (s)\n",
      "Effective window size : 16.000 (s)\n",
      "Reading D:\\VSCode\\Tesis\\Pengukuran\\Raw\\Base\\L2\\B6_011_s_rmb.fdt\n",
      "Reading 0 ... 129919  =      0.000 ...  1014.992 secs...\n",
      "Filtering raw data in 1 contiguous segment\n",
      "Setting up band-pass filter from 2 - 45 Hz\n",
      "\n",
      "FIR filter parameters\n",
      "---------------------\n",
      "Designing a one-pass, zero-phase, non-causal bandpass filter:\n",
      "- Windowed time-domain design (firwin) method\n",
      "- Hamming window with 0.0194 passband ripple and 53 dB stopband attenuation\n",
      "- Lower passband edge: 2.00\n",
      "- Lower transition bandwidth: 2.00 Hz (-6 dB cutoff frequency: 1.00 Hz)\n",
      "- Upper passband edge: 45.00 Hz\n",
      "- Upper transition bandwidth: 11.25 Hz (-6 dB cutoff frequency: 50.62 Hz)\n",
      "- Filter length: 213 samples (1.664 s)\n",
      "\n",
      "Fitting ICA to data using 5 channels (please be patient, this may take a while)\n",
      "Selecting by number: 5 components\n"
     ]
    },
    {
     "name": "stderr",
     "output_type": "stream",
     "text": [
      "C:\\Users\\hp\\AppData\\Local\\Temp\\ipykernel_10316\\2395476139.py:6: RuntimeWarning: Data file name in EEG.data (011_s_rmb.fdt) is incorrect, the file name must have changed on disk, using the correct file name (B6_011_s_rmb.fdt).\n",
      "  raw = mne.io.read_raw_eeglab(os.path.join(folder, eeg_file), preload=True)\n"
     ]
    },
    {
     "name": "stdout",
     "output_type": "stream",
     "text": [
      "Fitting ICA took 0.4s.\n",
      "NOTE: pick_channels() is a legacy function. New code should use inst.pick(...).\n"
     ]
    },
    {
     "name": "stderr",
     "output_type": "stream",
     "text": [
      "C:\\Users\\hp\\AppData\\Local\\Temp\\ipykernel_10316\\1468158900.py:19: RuntimeWarning: The provided Raw instance does not seem to be referenced to a common average reference (CAR). ICLabel was designed to classify features extracted from an EEG dataset referenced to a CAR (see the 'set_eeg_reference()' method for Raw and Epochs instances).\n",
      "  ic_labels = label_components(raw_filter, ica, method=\"iclabel\")\n",
      "C:\\Users\\hp\\AppData\\Local\\Temp\\ipykernel_10316\\1468158900.py:19: RuntimeWarning: The provided Raw instance is not filtered between 1 and 100 Hz. ICLabel was designed to classify features extracted from an EEG dataset bandpass filtered between 1 and 100 Hz (see the 'filter()' method for Raw and Epochs instances).\n",
      "  ic_labels = label_components(raw_filter, ica, method=\"iclabel\")\n",
      "C:\\Users\\hp\\AppData\\Local\\Temp\\ipykernel_10316\\1468158900.py:19: RuntimeWarning: The provided ICA instance was fitted with a 'fastica' algorithm. ICLabel was designed with extended infomax ICA decompositions. To use the extended infomax algorithm, use the 'mne.preprocessing.ICA' instance with the arguments 'ICA(method='infomax', fit_params=dict(extended=True))' (scikit-learn) or 'ICA(method='picard', fit_params=dict(ortho=False, extended=True))' (python-picard).\n",
      "  ic_labels = label_components(raw_filter, ica, method=\"iclabel\")\n"
     ]
    },
    {
     "name": "stdout",
     "output_type": "stream",
     "text": [
      "Applying ICA to Raw instance\n",
      "    Transforming to ICA space (5 components)\n",
      "    Zeroing out 3 ICA components\n",
      "    Projecting back using 5 PCA components\n",
      "Filtering raw data in 1 contiguous segment\n",
      "Setting up band-pass filter from 2 - 45 Hz\n",
      "\n",
      "FIR filter parameters\n",
      "---------------------\n",
      "Designing a one-pass, zero-phase, non-causal bandpass filter:\n",
      "- Windowed time-domain design (firwin) method\n",
      "- Hamming window with 0.0194 passband ripple and 53 dB stopband attenuation\n",
      "- Lower passband edge: 2.00\n",
      "- Lower transition bandwidth: 2.00 Hz (-6 dB cutoff frequency: 1.00 Hz)\n",
      "- Upper passband edge: 45.00 Hz\n",
      "- Upper transition bandwidth: 11.25 Hz (-6 dB cutoff frequency: 50.62 Hz)\n",
      "- Filter length: 213 samples (1.664 s)\n",
      "\n",
      "Fitting ICA to data using 5 channels (please be patient, this may take a while)\n",
      "Selecting by number: 5 components\n",
      "Fitting ICA took 1.3s.\n",
      "NOTE: pick_channels() is a legacy function. New code should use inst.pick(...).\n"
     ]
    },
    {
     "name": "stderr",
     "output_type": "stream",
     "text": [
      "C:\\Users\\hp\\AppData\\Local\\Temp\\ipykernel_10316\\1468158900.py:19: RuntimeWarning: The provided Raw instance does not seem to be referenced to a common average reference (CAR). ICLabel was designed to classify features extracted from an EEG dataset referenced to a CAR (see the 'set_eeg_reference()' method for Raw and Epochs instances).\n",
      "  ic_labels = label_components(raw_filter, ica, method=\"iclabel\")\n",
      "C:\\Users\\hp\\AppData\\Local\\Temp\\ipykernel_10316\\1468158900.py:19: RuntimeWarning: The provided Raw instance is not filtered between 1 and 100 Hz. ICLabel was designed to classify features extracted from an EEG dataset bandpass filtered between 1 and 100 Hz (see the 'filter()' method for Raw and Epochs instances).\n",
      "  ic_labels = label_components(raw_filter, ica, method=\"iclabel\")\n",
      "C:\\Users\\hp\\AppData\\Local\\Temp\\ipykernel_10316\\1468158900.py:19: RuntimeWarning: The provided ICA instance was fitted with a 'fastica' algorithm. ICLabel was designed with extended infomax ICA decompositions. To use the extended infomax algorithm, use the 'mne.preprocessing.ICA' instance with the arguments 'ICA(method='infomax', fit_params=dict(extended=True))' (scikit-learn) or 'ICA(method='picard', fit_params=dict(ortho=False, extended=True))' (python-picard).\n",
      "  ic_labels = label_components(raw_filter, ica, method=\"iclabel\")\n"
     ]
    },
    {
     "name": "stdout",
     "output_type": "stream",
     "text": [
      "Applying ICA to Raw instance\n",
      "    Transforming to ICA space (5 components)\n",
      "    Zeroing out 2 ICA components\n",
      "    Projecting back using 5 PCA components\n",
      "Filtering raw data in 1 contiguous segment\n",
      "Setting up band-pass filter from 2 - 45 Hz\n",
      "\n",
      "FIR filter parameters\n",
      "---------------------\n",
      "Designing a one-pass, zero-phase, non-causal bandpass filter:\n",
      "- Windowed time-domain design (firwin) method\n",
      "- Hamming window with 0.0194 passband ripple and 53 dB stopband attenuation\n",
      "- Lower passband edge: 2.00\n",
      "- Lower transition bandwidth: 2.00 Hz (-6 dB cutoff frequency: 1.00 Hz)\n",
      "- Upper passband edge: 45.00 Hz\n",
      "- Upper transition bandwidth: 11.25 Hz (-6 dB cutoff frequency: 50.62 Hz)\n",
      "- Filter length: 213 samples (1.664 s)\n",
      "\n",
      "Fitting ICA to data using 5 channels (please be patient, this may take a while)\n",
      "Selecting by number: 5 components\n",
      "Fitting ICA took 0.4s.\n",
      "NOTE: pick_channels() is a legacy function. New code should use inst.pick(...).\n"
     ]
    },
    {
     "name": "stderr",
     "output_type": "stream",
     "text": [
      "C:\\Users\\hp\\AppData\\Local\\Temp\\ipykernel_10316\\1468158900.py:19: RuntimeWarning: The provided Raw instance does not seem to be referenced to a common average reference (CAR). ICLabel was designed to classify features extracted from an EEG dataset referenced to a CAR (see the 'set_eeg_reference()' method for Raw and Epochs instances).\n",
      "  ic_labels = label_components(raw_filter, ica, method=\"iclabel\")\n",
      "C:\\Users\\hp\\AppData\\Local\\Temp\\ipykernel_10316\\1468158900.py:19: RuntimeWarning: The provided Raw instance is not filtered between 1 and 100 Hz. ICLabel was designed to classify features extracted from an EEG dataset bandpass filtered between 1 and 100 Hz (see the 'filter()' method for Raw and Epochs instances).\n",
      "  ic_labels = label_components(raw_filter, ica, method=\"iclabel\")\n",
      "C:\\Users\\hp\\AppData\\Local\\Temp\\ipykernel_10316\\1468158900.py:19: RuntimeWarning: The provided ICA instance was fitted with a 'fastica' algorithm. ICLabel was designed with extended infomax ICA decompositions. To use the extended infomax algorithm, use the 'mne.preprocessing.ICA' instance with the arguments 'ICA(method='infomax', fit_params=dict(extended=True))' (scikit-learn) or 'ICA(method='picard', fit_params=dict(ortho=False, extended=True))' (python-picard).\n",
      "  ic_labels = label_components(raw_filter, ica, method=\"iclabel\")\n"
     ]
    },
    {
     "name": "stdout",
     "output_type": "stream",
     "text": [
      "Applying ICA to Raw instance\n",
      "    Transforming to ICA space (5 components)\n",
      "    Zeroing out 2 ICA components\n",
      "    Projecting back using 5 PCA components\n",
      "Effective window size : 16.000 (s)\n",
      "Effective window size : 16.000 (s)\n",
      "Effective window size : 16.000 (s)\n",
      "Reading D:\\VSCode\\Tesis\\Pengukuran\\Raw\\Base\\L1\\C1_006_s_rmb.fdt\n",
      "Reading 0 ... 130559  =      0.000 ...  1019.992 secs...\n",
      "Filtering raw data in 1 contiguous segment\n",
      "Setting up band-pass filter from 2 - 45 Hz\n",
      "\n",
      "FIR filter parameters\n",
      "---------------------\n",
      "Designing a one-pass, zero-phase, non-causal bandpass filter:\n",
      "- Windowed time-domain design (firwin) method\n",
      "- Hamming window with 0.0194 passband ripple and 53 dB stopband attenuation\n",
      "- Lower passband edge: 2.00\n",
      "- Lower transition bandwidth: 2.00 Hz (-6 dB cutoff frequency: 1.00 Hz)\n",
      "- Upper passband edge: 45.00 Hz\n"
     ]
    },
    {
     "name": "stderr",
     "output_type": "stream",
     "text": [
      "C:\\Users\\hp\\AppData\\Local\\Temp\\ipykernel_10316\\2395476139.py:6: RuntimeWarning: Data file name in EEG.data (006_s_rmb.fdt) is incorrect, the file name must have changed on disk, using the correct file name (C1_006_s_rmb.fdt).\n",
      "  raw = mne.io.read_raw_eeglab(os.path.join(folder, eeg_file), preload=True)\n"
     ]
    },
    {
     "name": "stdout",
     "output_type": "stream",
     "text": [
      "- Upper transition bandwidth: 11.25 Hz (-6 dB cutoff frequency: 50.62 Hz)\n",
      "- Filter length: 213 samples (1.664 s)\n",
      "\n",
      "Fitting ICA to data using 5 channels (please be patient, this may take a while)\n",
      "Selecting by number: 5 components\n",
      "Fitting ICA took 0.5s.\n",
      "NOTE: pick_channels() is a legacy function. New code should use inst.pick(...).\n"
     ]
    },
    {
     "name": "stderr",
     "output_type": "stream",
     "text": [
      "C:\\Users\\hp\\AppData\\Local\\Temp\\ipykernel_10316\\1468158900.py:19: RuntimeWarning: The provided Raw instance does not seem to be referenced to a common average reference (CAR). ICLabel was designed to classify features extracted from an EEG dataset referenced to a CAR (see the 'set_eeg_reference()' method for Raw and Epochs instances).\n",
      "  ic_labels = label_components(raw_filter, ica, method=\"iclabel\")\n",
      "C:\\Users\\hp\\AppData\\Local\\Temp\\ipykernel_10316\\1468158900.py:19: RuntimeWarning: The provided Raw instance is not filtered between 1 and 100 Hz. ICLabel was designed to classify features extracted from an EEG dataset bandpass filtered between 1 and 100 Hz (see the 'filter()' method for Raw and Epochs instances).\n",
      "  ic_labels = label_components(raw_filter, ica, method=\"iclabel\")\n",
      "C:\\Users\\hp\\AppData\\Local\\Temp\\ipykernel_10316\\1468158900.py:19: RuntimeWarning: The provided ICA instance was fitted with a 'fastica' algorithm. ICLabel was designed with extended infomax ICA decompositions. To use the extended infomax algorithm, use the 'mne.preprocessing.ICA' instance with the arguments 'ICA(method='infomax', fit_params=dict(extended=True))' (scikit-learn) or 'ICA(method='picard', fit_params=dict(ortho=False, extended=True))' (python-picard).\n",
      "  ic_labels = label_components(raw_filter, ica, method=\"iclabel\")\n"
     ]
    },
    {
     "name": "stdout",
     "output_type": "stream",
     "text": [
      "Applying ICA to Raw instance\n",
      "    Transforming to ICA space (5 components)\n",
      "    Zeroing out 2 ICA components\n",
      "    Projecting back using 5 PCA components\n",
      "Filtering raw data in 1 contiguous segment\n",
      "Setting up band-pass filter from 2 - 45 Hz\n",
      "\n",
      "FIR filter parameters\n",
      "---------------------\n",
      "Designing a one-pass, zero-phase, non-causal bandpass filter:\n",
      "- Windowed time-domain design (firwin) method\n",
      "- Hamming window with 0.0194 passband ripple and 53 dB stopband attenuation\n",
      "- Lower passband edge: 2.00\n",
      "- Lower transition bandwidth: 2.00 Hz (-6 dB cutoff frequency: 1.00 Hz)\n",
      "- Upper passband edge: 45.00 Hz\n",
      "- Upper transition bandwidth: 11.25 Hz (-6 dB cutoff frequency: 50.62 Hz)\n",
      "- Filter length: 213 samples (1.664 s)\n",
      "\n",
      "Fitting ICA to data using 5 channels (please be patient, this may take a while)\n",
      "Selecting by number: 5 components\n",
      "Fitting ICA took 0.8s.\n",
      "NOTE: pick_channels() is a legacy function. New code should use inst.pick(...).\n"
     ]
    },
    {
     "name": "stderr",
     "output_type": "stream",
     "text": [
      "C:\\Users\\hp\\AppData\\Local\\Temp\\ipykernel_10316\\1468158900.py:19: RuntimeWarning: The provided Raw instance does not seem to be referenced to a common average reference (CAR). ICLabel was designed to classify features extracted from an EEG dataset referenced to a CAR (see the 'set_eeg_reference()' method for Raw and Epochs instances).\n",
      "  ic_labels = label_components(raw_filter, ica, method=\"iclabel\")\n",
      "C:\\Users\\hp\\AppData\\Local\\Temp\\ipykernel_10316\\1468158900.py:19: RuntimeWarning: The provided Raw instance is not filtered between 1 and 100 Hz. ICLabel was designed to classify features extracted from an EEG dataset bandpass filtered between 1 and 100 Hz (see the 'filter()' method for Raw and Epochs instances).\n",
      "  ic_labels = label_components(raw_filter, ica, method=\"iclabel\")\n",
      "C:\\Users\\hp\\AppData\\Local\\Temp\\ipykernel_10316\\1468158900.py:19: RuntimeWarning: The provided ICA instance was fitted with a 'fastica' algorithm. ICLabel was designed with extended infomax ICA decompositions. To use the extended infomax algorithm, use the 'mne.preprocessing.ICA' instance with the arguments 'ICA(method='infomax', fit_params=dict(extended=True))' (scikit-learn) or 'ICA(method='picard', fit_params=dict(ortho=False, extended=True))' (python-picard).\n",
      "  ic_labels = label_components(raw_filter, ica, method=\"iclabel\")\n"
     ]
    },
    {
     "name": "stdout",
     "output_type": "stream",
     "text": [
      "Applying ICA to Raw instance\n",
      "    Transforming to ICA space (5 components)\n",
      "    Zeroing out 1 ICA component\n",
      "    Projecting back using 5 PCA components\n",
      "Filtering raw data in 1 contiguous segment\n",
      "Setting up band-pass filter from 2 - 45 Hz\n",
      "\n",
      "FIR filter parameters\n",
      "---------------------\n",
      "Designing a one-pass, zero-phase, non-causal bandpass filter:\n",
      "- Windowed time-domain design (firwin) method\n",
      "- Hamming window with 0.0194 passband ripple and 53 dB stopband attenuation\n",
      "- Lower passband edge: 2.00\n",
      "- Lower transition bandwidth: 2.00 Hz (-6 dB cutoff frequency: 1.00 Hz)\n",
      "- Upper passband edge: 45.00 Hz\n",
      "- Upper transition bandwidth: 11.25 Hz (-6 dB cutoff frequency: 50.62 Hz)\n",
      "- Filter length: 213 samples (1.664 s)\n",
      "\n",
      "Fitting ICA to data using 5 channels (please be patient, this may take a while)\n",
      "Selecting by number: 5 components\n",
      "Fitting ICA took 0.3s.\n",
      "NOTE: pick_channels() is a legacy function. New code should use inst.pick(...).\n"
     ]
    },
    {
     "name": "stderr",
     "output_type": "stream",
     "text": [
      "C:\\Users\\hp\\AppData\\Local\\Temp\\ipykernel_10316\\1468158900.py:19: RuntimeWarning: The provided Raw instance does not seem to be referenced to a common average reference (CAR). ICLabel was designed to classify features extracted from an EEG dataset referenced to a CAR (see the 'set_eeg_reference()' method for Raw and Epochs instances).\n",
      "  ic_labels = label_components(raw_filter, ica, method=\"iclabel\")\n",
      "C:\\Users\\hp\\AppData\\Local\\Temp\\ipykernel_10316\\1468158900.py:19: RuntimeWarning: The provided Raw instance is not filtered between 1 and 100 Hz. ICLabel was designed to classify features extracted from an EEG dataset bandpass filtered between 1 and 100 Hz (see the 'filter()' method for Raw and Epochs instances).\n",
      "  ic_labels = label_components(raw_filter, ica, method=\"iclabel\")\n",
      "C:\\Users\\hp\\AppData\\Local\\Temp\\ipykernel_10316\\1468158900.py:19: RuntimeWarning: The provided ICA instance was fitted with a 'fastica' algorithm. ICLabel was designed with extended infomax ICA decompositions. To use the extended infomax algorithm, use the 'mne.preprocessing.ICA' instance with the arguments 'ICA(method='infomax', fit_params=dict(extended=True))' (scikit-learn) or 'ICA(method='picard', fit_params=dict(ortho=False, extended=True))' (python-picard).\n",
      "  ic_labels = label_components(raw_filter, ica, method=\"iclabel\")\n"
     ]
    },
    {
     "name": "stdout",
     "output_type": "stream",
     "text": [
      "Applying ICA to Raw instance\n",
      "    Transforming to ICA space (5 components)\n",
      "    Zeroing out 2 ICA components\n",
      "    Projecting back using 5 PCA components\n",
      "Effective window size : 16.000 (s)\n",
      "Effective window size : 16.000 (s)\n",
      "Effective window size : 16.000 (s)\n",
      "Reading D:\\VSCode\\Tesis\\Pengukuran\\Raw\\Base\\L1\\C2_008_s_rmb.fdt\n",
      "Reading 0 ... 124671  =      0.000 ...   973.992 secs...\n",
      "Filtering raw data in 1 contiguous segment\n",
      "Setting up band-pass filter from 2 - 45 Hz\n",
      "\n",
      "FIR filter parameters\n",
      "---------------------\n",
      "Designing a one-pass, zero-phase, non-causal bandpass filter:\n",
      "- Windowed time-domain design (firwin) method\n",
      "- Hamming window with 0.0194 passband ripple and 53 dB stopband attenuation\n",
      "- Lower passband edge: 2.00\n",
      "- Lower transition bandwidth: 2.00 Hz (-6 dB cutoff frequency: 1.00 Hz)\n",
      "- Upper passband edge: 45.00 Hz\n",
      "- Upper transition bandwidth: 11.25 Hz (-6 dB cutoff frequency: 50.62 Hz)\n",
      "- Filter length: 213 samples (1.664 s)\n",
      "\n"
     ]
    },
    {
     "name": "stderr",
     "output_type": "stream",
     "text": [
      "C:\\Users\\hp\\AppData\\Local\\Temp\\ipykernel_10316\\2395476139.py:6: RuntimeWarning: Data file name in EEG.data (008_s_rmb.fdt) is incorrect, the file name must have changed on disk, using the correct file name (C2_008_s_rmb.fdt).\n",
      "  raw = mne.io.read_raw_eeglab(os.path.join(folder, eeg_file), preload=True)\n"
     ]
    },
    {
     "name": "stdout",
     "output_type": "stream",
     "text": [
      "Fitting ICA to data using 5 channels (please be patient, this may take a while)\n",
      "Selecting by number: 5 components\n",
      "Fitting ICA took 0.3s.\n",
      "NOTE: pick_channels() is a legacy function. New code should use inst.pick(...).\n"
     ]
    },
    {
     "name": "stderr",
     "output_type": "stream",
     "text": [
      "C:\\Users\\hp\\AppData\\Local\\Temp\\ipykernel_10316\\1468158900.py:19: RuntimeWarning: The provided Raw instance does not seem to be referenced to a common average reference (CAR). ICLabel was designed to classify features extracted from an EEG dataset referenced to a CAR (see the 'set_eeg_reference()' method for Raw and Epochs instances).\n",
      "  ic_labels = label_components(raw_filter, ica, method=\"iclabel\")\n",
      "C:\\Users\\hp\\AppData\\Local\\Temp\\ipykernel_10316\\1468158900.py:19: RuntimeWarning: The provided Raw instance is not filtered between 1 and 100 Hz. ICLabel was designed to classify features extracted from an EEG dataset bandpass filtered between 1 and 100 Hz (see the 'filter()' method for Raw and Epochs instances).\n",
      "  ic_labels = label_components(raw_filter, ica, method=\"iclabel\")\n",
      "C:\\Users\\hp\\AppData\\Local\\Temp\\ipykernel_10316\\1468158900.py:19: RuntimeWarning: The provided ICA instance was fitted with a 'fastica' algorithm. ICLabel was designed with extended infomax ICA decompositions. To use the extended infomax algorithm, use the 'mne.preprocessing.ICA' instance with the arguments 'ICA(method='infomax', fit_params=dict(extended=True))' (scikit-learn) or 'ICA(method='picard', fit_params=dict(ortho=False, extended=True))' (python-picard).\n",
      "  ic_labels = label_components(raw_filter, ica, method=\"iclabel\")\n"
     ]
    },
    {
     "name": "stdout",
     "output_type": "stream",
     "text": [
      "Applying ICA to Raw instance\n",
      "    Transforming to ICA space (5 components)\n",
      "    Zeroing out 2 ICA components\n",
      "    Projecting back using 5 PCA components\n",
      "Filtering raw data in 1 contiguous segment\n",
      "Setting up band-pass filter from 2 - 45 Hz\n",
      "\n",
      "FIR filter parameters\n",
      "---------------------\n",
      "Designing a one-pass, zero-phase, non-causal bandpass filter:\n",
      "- Windowed time-domain design (firwin) method\n",
      "- Hamming window with 0.0194 passband ripple and 53 dB stopband attenuation\n",
      "- Lower passband edge: 2.00\n",
      "- Lower transition bandwidth: 2.00 Hz (-6 dB cutoff frequency: 1.00 Hz)\n",
      "- Upper passband edge: 45.00 Hz\n",
      "- Upper transition bandwidth: 11.25 Hz (-6 dB cutoff frequency: 50.62 Hz)\n",
      "- Filter length: 213 samples (1.664 s)\n",
      "\n",
      "Fitting ICA to data using 5 channels (please be patient, this may take a while)\n",
      "Selecting by number: 5 components\n",
      "Fitting ICA took 0.6s.\n",
      "NOTE: pick_channels() is a legacy function. New code should use inst.pick(...).\n"
     ]
    },
    {
     "name": "stderr",
     "output_type": "stream",
     "text": [
      "C:\\Users\\hp\\AppData\\Local\\Temp\\ipykernel_10316\\1468158900.py:19: RuntimeWarning: The provided Raw instance does not seem to be referenced to a common average reference (CAR). ICLabel was designed to classify features extracted from an EEG dataset referenced to a CAR (see the 'set_eeg_reference()' method for Raw and Epochs instances).\n",
      "  ic_labels = label_components(raw_filter, ica, method=\"iclabel\")\n",
      "C:\\Users\\hp\\AppData\\Local\\Temp\\ipykernel_10316\\1468158900.py:19: RuntimeWarning: The provided Raw instance is not filtered between 1 and 100 Hz. ICLabel was designed to classify features extracted from an EEG dataset bandpass filtered between 1 and 100 Hz (see the 'filter()' method for Raw and Epochs instances).\n",
      "  ic_labels = label_components(raw_filter, ica, method=\"iclabel\")\n",
      "C:\\Users\\hp\\AppData\\Local\\Temp\\ipykernel_10316\\1468158900.py:19: RuntimeWarning: The provided ICA instance was fitted with a 'fastica' algorithm. ICLabel was designed with extended infomax ICA decompositions. To use the extended infomax algorithm, use the 'mne.preprocessing.ICA' instance with the arguments 'ICA(method='infomax', fit_params=dict(extended=True))' (scikit-learn) or 'ICA(method='picard', fit_params=dict(ortho=False, extended=True))' (python-picard).\n",
      "  ic_labels = label_components(raw_filter, ica, method=\"iclabel\")\n"
     ]
    },
    {
     "name": "stdout",
     "output_type": "stream",
     "text": [
      "Applying ICA to Raw instance\n",
      "    Transforming to ICA space (5 components)\n",
      "    Zeroing out 1 ICA component\n",
      "    Projecting back using 5 PCA components\n",
      "Filtering raw data in 1 contiguous segment\n",
      "Setting up band-pass filter from 2 - 45 Hz\n",
      "\n",
      "FIR filter parameters\n",
      "---------------------\n",
      "Designing a one-pass, zero-phase, non-causal bandpass filter:\n",
      "- Windowed time-domain design (firwin) method\n",
      "- Hamming window with 0.0194 passband ripple and 53 dB stopband attenuation\n",
      "- Lower passband edge: 2.00\n",
      "- Lower transition bandwidth: 2.00 Hz (-6 dB cutoff frequency: 1.00 Hz)\n",
      "- Upper passband edge: 45.00 Hz\n",
      "- Upper transition bandwidth: 11.25 Hz (-6 dB cutoff frequency: 50.62 Hz)\n",
      "- Filter length: 213 samples (1.664 s)\n",
      "\n",
      "Fitting ICA to data using 5 channels (please be patient, this may take a while)\n",
      "Selecting by number: 5 components\n",
      "Fitting ICA took 0.2s.\n",
      "NOTE: pick_channels() is a legacy function. New code should use inst.pick(...).\n"
     ]
    },
    {
     "name": "stderr",
     "output_type": "stream",
     "text": [
      "C:\\Users\\hp\\AppData\\Local\\Temp\\ipykernel_10316\\1468158900.py:19: RuntimeWarning: The provided Raw instance does not seem to be referenced to a common average reference (CAR). ICLabel was designed to classify features extracted from an EEG dataset referenced to a CAR (see the 'set_eeg_reference()' method for Raw and Epochs instances).\n",
      "  ic_labels = label_components(raw_filter, ica, method=\"iclabel\")\n",
      "C:\\Users\\hp\\AppData\\Local\\Temp\\ipykernel_10316\\1468158900.py:19: RuntimeWarning: The provided Raw instance is not filtered between 1 and 100 Hz. ICLabel was designed to classify features extracted from an EEG dataset bandpass filtered between 1 and 100 Hz (see the 'filter()' method for Raw and Epochs instances).\n",
      "  ic_labels = label_components(raw_filter, ica, method=\"iclabel\")\n",
      "C:\\Users\\hp\\AppData\\Local\\Temp\\ipykernel_10316\\1468158900.py:19: RuntimeWarning: The provided ICA instance was fitted with a 'fastica' algorithm. ICLabel was designed with extended infomax ICA decompositions. To use the extended infomax algorithm, use the 'mne.preprocessing.ICA' instance with the arguments 'ICA(method='infomax', fit_params=dict(extended=True))' (scikit-learn) or 'ICA(method='picard', fit_params=dict(ortho=False, extended=True))' (python-picard).\n",
      "  ic_labels = label_components(raw_filter, ica, method=\"iclabel\")\n"
     ]
    },
    {
     "name": "stdout",
     "output_type": "stream",
     "text": [
      "Applying ICA to Raw instance\n",
      "    Transforming to ICA space (5 components)\n",
      "    Zeroing out 2 ICA components\n",
      "    Projecting back using 5 PCA components\n",
      "Effective window size : 16.000 (s)\n",
      "Effective window size : 16.000 (s)\n",
      "Effective window size : 16.000 (s)\n",
      "Reading D:\\VSCode\\Tesis\\Pengukuran\\Raw\\Base\\L1\\C3_014_s_rmb.fdt\n",
      "Reading 0 ... 160895  =      0.000 ...  1256.992 secs...\n"
     ]
    },
    {
     "name": "stderr",
     "output_type": "stream",
     "text": [
      "C:\\Users\\hp\\AppData\\Local\\Temp\\ipykernel_10316\\2395476139.py:6: RuntimeWarning: Data file name in EEG.data (014_s_rmb.fdt) is incorrect, the file name must have changed on disk, using the correct file name (C3_014_s_rmb.fdt).\n",
      "  raw = mne.io.read_raw_eeglab(os.path.join(folder, eeg_file), preload=True)\n"
     ]
    },
    {
     "name": "stdout",
     "output_type": "stream",
     "text": [
      "Filtering raw data in 1 contiguous segment\n",
      "Setting up band-pass filter from 2 - 45 Hz\n",
      "\n",
      "FIR filter parameters\n",
      "---------------------\n",
      "Designing a one-pass, zero-phase, non-causal bandpass filter:\n",
      "- Windowed time-domain design (firwin) method\n",
      "- Hamming window with 0.0194 passband ripple and 53 dB stopband attenuation\n",
      "- Lower passband edge: 2.00\n",
      "- Lower transition bandwidth: 2.00 Hz (-6 dB cutoff frequency: 1.00 Hz)\n",
      "- Upper passband edge: 45.00 Hz\n",
      "- Upper transition bandwidth: 11.25 Hz (-6 dB cutoff frequency: 50.62 Hz)\n",
      "- Filter length: 213 samples (1.664 s)\n",
      "\n",
      "Fitting ICA to data using 5 channels (please be patient, this may take a while)\n",
      "Selecting by number: 5 components\n",
      "Fitting ICA took 0.3s.\n",
      "NOTE: pick_channels() is a legacy function. New code should use inst.pick(...).\n"
     ]
    },
    {
     "name": "stderr",
     "output_type": "stream",
     "text": [
      "C:\\Users\\hp\\AppData\\Local\\Temp\\ipykernel_10316\\1468158900.py:19: RuntimeWarning: The provided Raw instance does not seem to be referenced to a common average reference (CAR). ICLabel was designed to classify features extracted from an EEG dataset referenced to a CAR (see the 'set_eeg_reference()' method for Raw and Epochs instances).\n",
      "  ic_labels = label_components(raw_filter, ica, method=\"iclabel\")\n",
      "C:\\Users\\hp\\AppData\\Local\\Temp\\ipykernel_10316\\1468158900.py:19: RuntimeWarning: The provided Raw instance is not filtered between 1 and 100 Hz. ICLabel was designed to classify features extracted from an EEG dataset bandpass filtered between 1 and 100 Hz (see the 'filter()' method for Raw and Epochs instances).\n",
      "  ic_labels = label_components(raw_filter, ica, method=\"iclabel\")\n",
      "C:\\Users\\hp\\AppData\\Local\\Temp\\ipykernel_10316\\1468158900.py:19: RuntimeWarning: The provided ICA instance was fitted with a 'fastica' algorithm. ICLabel was designed with extended infomax ICA decompositions. To use the extended infomax algorithm, use the 'mne.preprocessing.ICA' instance with the arguments 'ICA(method='infomax', fit_params=dict(extended=True))' (scikit-learn) or 'ICA(method='picard', fit_params=dict(ortho=False, extended=True))' (python-picard).\n",
      "  ic_labels = label_components(raw_filter, ica, method=\"iclabel\")\n"
     ]
    },
    {
     "name": "stdout",
     "output_type": "stream",
     "text": [
      "Applying ICA to Raw instance\n",
      "    Transforming to ICA space (5 components)\n",
      "    Zeroing out 1 ICA component\n",
      "    Projecting back using 5 PCA components\n",
      "Filtering raw data in 1 contiguous segment\n",
      "Setting up band-pass filter from 2 - 45 Hz\n",
      "\n",
      "FIR filter parameters\n",
      "---------------------\n",
      "Designing a one-pass, zero-phase, non-causal bandpass filter:\n",
      "- Windowed time-domain design (firwin) method\n",
      "- Hamming window with 0.0194 passband ripple and 53 dB stopband attenuation\n",
      "- Lower passband edge: 2.00\n",
      "- Lower transition bandwidth: 2.00 Hz (-6 dB cutoff frequency: 1.00 Hz)\n",
      "- Upper passband edge: 45.00 Hz\n",
      "- Upper transition bandwidth: 11.25 Hz (-6 dB cutoff frequency: 50.62 Hz)\n",
      "- Filter length: 213 samples (1.664 s)\n",
      "\n",
      "Fitting ICA to data using 5 channels (please be patient, this may take a while)\n",
      "Selecting by number: 5 components\n",
      "Fitting ICA took 0.8s.\n",
      "NOTE: pick_channels() is a legacy function. New code should use inst.pick(...).\n"
     ]
    },
    {
     "name": "stderr",
     "output_type": "stream",
     "text": [
      "C:\\Users\\hp\\AppData\\Local\\Temp\\ipykernel_10316\\1468158900.py:19: RuntimeWarning: The provided Raw instance does not seem to be referenced to a common average reference (CAR). ICLabel was designed to classify features extracted from an EEG dataset referenced to a CAR (see the 'set_eeg_reference()' method for Raw and Epochs instances).\n",
      "  ic_labels = label_components(raw_filter, ica, method=\"iclabel\")\n",
      "C:\\Users\\hp\\AppData\\Local\\Temp\\ipykernel_10316\\1468158900.py:19: RuntimeWarning: The provided Raw instance is not filtered between 1 and 100 Hz. ICLabel was designed to classify features extracted from an EEG dataset bandpass filtered between 1 and 100 Hz (see the 'filter()' method for Raw and Epochs instances).\n",
      "  ic_labels = label_components(raw_filter, ica, method=\"iclabel\")\n",
      "C:\\Users\\hp\\AppData\\Local\\Temp\\ipykernel_10316\\1468158900.py:19: RuntimeWarning: The provided ICA instance was fitted with a 'fastica' algorithm. ICLabel was designed with extended infomax ICA decompositions. To use the extended infomax algorithm, use the 'mne.preprocessing.ICA' instance with the arguments 'ICA(method='infomax', fit_params=dict(extended=True))' (scikit-learn) or 'ICA(method='picard', fit_params=dict(ortho=False, extended=True))' (python-picard).\n",
      "  ic_labels = label_components(raw_filter, ica, method=\"iclabel\")\n"
     ]
    },
    {
     "name": "stdout",
     "output_type": "stream",
     "text": [
      "Applying ICA to Raw instance\n",
      "    Transforming to ICA space (5 components)\n",
      "    Zeroing out 1 ICA component\n",
      "    Projecting back using 5 PCA components\n",
      "Filtering raw data in 1 contiguous segment\n",
      "Setting up band-pass filter from 2 - 45 Hz\n",
      "\n",
      "FIR filter parameters\n",
      "---------------------\n",
      "Designing a one-pass, zero-phase, non-causal bandpass filter:\n",
      "- Windowed time-domain design (firwin) method\n",
      "- Hamming window with 0.0194 passband ripple and 53 dB stopband attenuation\n",
      "- Lower passband edge: 2.00\n",
      "- Lower transition bandwidth: 2.00 Hz (-6 dB cutoff frequency: 1.00 Hz)\n",
      "- Upper passband edge: 45.00 Hz\n",
      "- Upper transition bandwidth: 11.25 Hz (-6 dB cutoff frequency: 50.62 Hz)\n",
      "- Filter length: 213 samples (1.664 s)\n",
      "\n",
      "Fitting ICA to data using 5 channels (please be patient, this may take a while)\n",
      "Selecting by number: 5 components\n",
      "Fitting ICA took 0.5s.\n",
      "NOTE: pick_channels() is a legacy function. New code should use inst.pick(...).\n"
     ]
    },
    {
     "name": "stderr",
     "output_type": "stream",
     "text": [
      "C:\\Users\\hp\\AppData\\Local\\Temp\\ipykernel_10316\\1468158900.py:19: RuntimeWarning: The provided Raw instance does not seem to be referenced to a common average reference (CAR). ICLabel was designed to classify features extracted from an EEG dataset referenced to a CAR (see the 'set_eeg_reference()' method for Raw and Epochs instances).\n",
      "  ic_labels = label_components(raw_filter, ica, method=\"iclabel\")\n",
      "C:\\Users\\hp\\AppData\\Local\\Temp\\ipykernel_10316\\1468158900.py:19: RuntimeWarning: The provided Raw instance is not filtered between 1 and 100 Hz. ICLabel was designed to classify features extracted from an EEG dataset bandpass filtered between 1 and 100 Hz (see the 'filter()' method for Raw and Epochs instances).\n",
      "  ic_labels = label_components(raw_filter, ica, method=\"iclabel\")\n",
      "C:\\Users\\hp\\AppData\\Local\\Temp\\ipykernel_10316\\1468158900.py:19: RuntimeWarning: The provided ICA instance was fitted with a 'fastica' algorithm. ICLabel was designed with extended infomax ICA decompositions. To use the extended infomax algorithm, use the 'mne.preprocessing.ICA' instance with the arguments 'ICA(method='infomax', fit_params=dict(extended=True))' (scikit-learn) or 'ICA(method='picard', fit_params=dict(ortho=False, extended=True))' (python-picard).\n",
      "  ic_labels = label_components(raw_filter, ica, method=\"iclabel\")\n"
     ]
    },
    {
     "name": "stdout",
     "output_type": "stream",
     "text": [
      "Applying ICA to Raw instance\n",
      "    Transforming to ICA space (5 components)\n",
      "    Zeroing out 1 ICA component\n",
      "    Projecting back using 5 PCA components\n",
      "Effective window size : 16.000 (s)\n",
      "Effective window size : 16.000 (s)\n",
      "Effective window size : 16.000 (s)\n",
      "Reading D:\\VSCode\\Tesis\\Pengukuran\\Raw\\Base\\L1\\C4_015_s_rmb.fdt\n",
      "Reading 0 ... 160383  =      0.000 ...  1252.992 secs...\n",
      "Filtering raw data in 1 contiguous segment\n",
      "Setting up band-pass filter from 2 - 45 Hz\n",
      "\n",
      "FIR filter parameters\n",
      "---------------------\n",
      "Designing a one-pass, zero-phase, non-causal bandpass filter:\n",
      "- Windowed time-domain design (firwin) method\n",
      "- Hamming window with 0.0194 passband ripple and 53 dB stopband attenuation\n",
      "- Lower passband edge: 2.00\n",
      "- Lower transition bandwidth: 2.00 Hz (-6 dB cutoff frequency: 1.00 Hz)\n",
      "- Upper passband edge: 45.00 Hz\n",
      "- Upper transition bandwidth: 11.25 Hz (-6 dB cutoff frequency: 50.62 Hz)\n",
      "- Filter length: 213 samples (1.664 s)\n",
      "\n",
      "Fitting ICA to data using 5 channels (please be patient, this may take a while)\n"
     ]
    },
    {
     "name": "stderr",
     "output_type": "stream",
     "text": [
      "C:\\Users\\hp\\AppData\\Local\\Temp\\ipykernel_10316\\2395476139.py:6: RuntimeWarning: Data file name in EEG.data (015_s_rmb.fdt) is incorrect, the file name must have changed on disk, using the correct file name (C4_015_s_rmb.fdt).\n",
      "  raw = mne.io.read_raw_eeglab(os.path.join(folder, eeg_file), preload=True)\n"
     ]
    },
    {
     "name": "stdout",
     "output_type": "stream",
     "text": [
      "Selecting by number: 5 components\n",
      "Fitting ICA took 0.6s.\n",
      "NOTE: pick_channels() is a legacy function. New code should use inst.pick(...).\n"
     ]
    },
    {
     "name": "stderr",
     "output_type": "stream",
     "text": [
      "C:\\Users\\hp\\AppData\\Local\\Temp\\ipykernel_10316\\1468158900.py:19: RuntimeWarning: The provided Raw instance does not seem to be referenced to a common average reference (CAR). ICLabel was designed to classify features extracted from an EEG dataset referenced to a CAR (see the 'set_eeg_reference()' method for Raw and Epochs instances).\n",
      "  ic_labels = label_components(raw_filter, ica, method=\"iclabel\")\n",
      "C:\\Users\\hp\\AppData\\Local\\Temp\\ipykernel_10316\\1468158900.py:19: RuntimeWarning: The provided Raw instance is not filtered between 1 and 100 Hz. ICLabel was designed to classify features extracted from an EEG dataset bandpass filtered between 1 and 100 Hz (see the 'filter()' method for Raw and Epochs instances).\n",
      "  ic_labels = label_components(raw_filter, ica, method=\"iclabel\")\n",
      "C:\\Users\\hp\\AppData\\Local\\Temp\\ipykernel_10316\\1468158900.py:19: RuntimeWarning: The provided ICA instance was fitted with a 'fastica' algorithm. ICLabel was designed with extended infomax ICA decompositions. To use the extended infomax algorithm, use the 'mne.preprocessing.ICA' instance with the arguments 'ICA(method='infomax', fit_params=dict(extended=True))' (scikit-learn) or 'ICA(method='picard', fit_params=dict(ortho=False, extended=True))' (python-picard).\n",
      "  ic_labels = label_components(raw_filter, ica, method=\"iclabel\")\n"
     ]
    },
    {
     "name": "stdout",
     "output_type": "stream",
     "text": [
      "Applying ICA to Raw instance\n",
      "    Transforming to ICA space (5 components)\n",
      "    Zeroing out 1 ICA component\n",
      "    Projecting back using 5 PCA components\n",
      "Filtering raw data in 1 contiguous segment\n",
      "Setting up band-pass filter from 2 - 45 Hz\n",
      "\n",
      "FIR filter parameters\n",
      "---------------------\n",
      "Designing a one-pass, zero-phase, non-causal bandpass filter:\n",
      "- Windowed time-domain design (firwin) method\n",
      "- Hamming window with 0.0194 passband ripple and 53 dB stopband attenuation\n",
      "- Lower passband edge: 2.00\n",
      "- Lower transition bandwidth: 2.00 Hz (-6 dB cutoff frequency: 1.00 Hz)\n",
      "- Upper passband edge: 45.00 Hz\n",
      "- Upper transition bandwidth: 11.25 Hz (-6 dB cutoff frequency: 50.62 Hz)\n",
      "- Filter length: 213 samples (1.664 s)\n",
      "\n",
      "Fitting ICA to data using 5 channels (please be patient, this may take a while)\n",
      "Selecting by number: 5 components\n",
      "Fitting ICA took 1.3s.\n",
      "NOTE: pick_channels() is a legacy function. New code should use inst.pick(...).\n"
     ]
    },
    {
     "name": "stderr",
     "output_type": "stream",
     "text": [
      "C:\\Users\\hp\\AppData\\Local\\Temp\\ipykernel_10316\\1468158900.py:19: RuntimeWarning: The provided Raw instance does not seem to be referenced to a common average reference (CAR). ICLabel was designed to classify features extracted from an EEG dataset referenced to a CAR (see the 'set_eeg_reference()' method for Raw and Epochs instances).\n",
      "  ic_labels = label_components(raw_filter, ica, method=\"iclabel\")\n",
      "C:\\Users\\hp\\AppData\\Local\\Temp\\ipykernel_10316\\1468158900.py:19: RuntimeWarning: The provided Raw instance is not filtered between 1 and 100 Hz. ICLabel was designed to classify features extracted from an EEG dataset bandpass filtered between 1 and 100 Hz (see the 'filter()' method for Raw and Epochs instances).\n",
      "  ic_labels = label_components(raw_filter, ica, method=\"iclabel\")\n",
      "C:\\Users\\hp\\AppData\\Local\\Temp\\ipykernel_10316\\1468158900.py:19: RuntimeWarning: The provided ICA instance was fitted with a 'fastica' algorithm. ICLabel was designed with extended infomax ICA decompositions. To use the extended infomax algorithm, use the 'mne.preprocessing.ICA' instance with the arguments 'ICA(method='infomax', fit_params=dict(extended=True))' (scikit-learn) or 'ICA(method='picard', fit_params=dict(ortho=False, extended=True))' (python-picard).\n",
      "  ic_labels = label_components(raw_filter, ica, method=\"iclabel\")\n"
     ]
    },
    {
     "name": "stdout",
     "output_type": "stream",
     "text": [
      "Applying ICA to Raw instance\n",
      "    Transforming to ICA space (5 components)\n",
      "    Zeroing out 1 ICA component\n",
      "    Projecting back using 5 PCA components\n",
      "Filtering raw data in 1 contiguous segment\n",
      "Setting up band-pass filter from 2 - 45 Hz\n",
      "\n",
      "FIR filter parameters\n",
      "---------------------\n",
      "Designing a one-pass, zero-phase, non-causal bandpass filter:\n",
      "- Windowed time-domain design (firwin) method\n",
      "- Hamming window with 0.0194 passband ripple and 53 dB stopband attenuation\n",
      "- Lower passband edge: 2.00\n",
      "- Lower transition bandwidth: 2.00 Hz (-6 dB cutoff frequency: 1.00 Hz)\n",
      "- Upper passband edge: 45.00 Hz\n",
      "- Upper transition bandwidth: 11.25 Hz (-6 dB cutoff frequency: 50.62 Hz)\n",
      "- Filter length: 213 samples (1.664 s)\n",
      "\n",
      "Fitting ICA to data using 5 channels (please be patient, this may take a while)\n",
      "Selecting by number: 5 components\n",
      "Fitting ICA took 0.1s.\n",
      "NOTE: pick_channels() is a legacy function. New code should use inst.pick(...).\n"
     ]
    },
    {
     "name": "stderr",
     "output_type": "stream",
     "text": [
      "C:\\Users\\hp\\AppData\\Local\\Temp\\ipykernel_10316\\1468158900.py:19: RuntimeWarning: The provided Raw instance does not seem to be referenced to a common average reference (CAR). ICLabel was designed to classify features extracted from an EEG dataset referenced to a CAR (see the 'set_eeg_reference()' method for Raw and Epochs instances).\n",
      "  ic_labels = label_components(raw_filter, ica, method=\"iclabel\")\n",
      "C:\\Users\\hp\\AppData\\Local\\Temp\\ipykernel_10316\\1468158900.py:19: RuntimeWarning: The provided Raw instance is not filtered between 1 and 100 Hz. ICLabel was designed to classify features extracted from an EEG dataset bandpass filtered between 1 and 100 Hz (see the 'filter()' method for Raw and Epochs instances).\n",
      "  ic_labels = label_components(raw_filter, ica, method=\"iclabel\")\n",
      "C:\\Users\\hp\\AppData\\Local\\Temp\\ipykernel_10316\\1468158900.py:19: RuntimeWarning: The provided ICA instance was fitted with a 'fastica' algorithm. ICLabel was designed with extended infomax ICA decompositions. To use the extended infomax algorithm, use the 'mne.preprocessing.ICA' instance with the arguments 'ICA(method='infomax', fit_params=dict(extended=True))' (scikit-learn) or 'ICA(method='picard', fit_params=dict(ortho=False, extended=True))' (python-picard).\n",
      "  ic_labels = label_components(raw_filter, ica, method=\"iclabel\")\n"
     ]
    },
    {
     "name": "stdout",
     "output_type": "stream",
     "text": [
      "Applying ICA to Raw instance\n",
      "    Transforming to ICA space (5 components)\n",
      "    Zeroing out 2 ICA components\n",
      "    Projecting back using 5 PCA components\n",
      "Effective window size : 16.000 (s)\n",
      "Effective window size : 16.000 (s)\n",
      "Effective window size : 16.000 (s)\n"
     ]
    }
   ],
   "source": [
    "dfs = []\n",
    "for label, folder in data_folders.items():\n",
    "    eeg_files = [file for file in os.listdir(folder) if file.endswith('.set')]\n",
    "    \n",
    "    for eeg_file in eeg_files:\n",
    "        raw = mne.io.read_raw_eeglab(os.path.join(folder, eeg_file), preload=True)\n",
    "        sfreq = raw.info['sfreq']\n",
    "        rawR1 = raw.copy()\n",
    "        rawT = raw.copy()\n",
    "        rawR2 = raw.copy()\n",
    "        raw_rest_1 = rawR1.crop(tmin=0, tmax=180)\n",
    "        raw_tafakur = rawT.crop(tmin=180, tmax=780)\n",
    "        raw_rest_2 = rawR2.crop(tmin=780, tmax=945)\n",
    "\n",
    "        cleaned_data_rest_1 = apply_ica(raw_rest_1, freq_min_band, freq_max_band)\n",
    "        cleaned_data_tafakur = apply_ica(raw_tafakur, freq_min_band, freq_max_band)\n",
    "        cleaned_data_rest_2 = apply_ica(raw_rest_2, freq_min_band, freq_max_band)\n",
    "        \n",
    "        psdsR1, freqsR1 = compute_psd(cleaned_data_rest_1, freq_min_band, freq_max_band, sfreq)\n",
    "        psdsT, freqsT = compute_psd(cleaned_data_tafakur, freq_min_band, freq_max_band, sfreq)\n",
    "        psdsR2, freqsR2 = compute_psd(cleaned_data_rest_2, freq_min_band, freq_max_band, sfreq)\n",
    "\n",
    "        normalized_psdsR1 = normalize_psd(psdsR1)\n",
    "        normalized_psdsT = normalize_psd(psdsT)\n",
    "        normalized_psdsR2 = normalize_psd(psdsR2)\n",
    "            \n",
    "        short_label = eeg_file[:2]\n",
    "            \n",
    "        n_channels = normalized_psdsR1.shape[0]\n",
    "        \n",
    "\n",
    "        # Loop through frequency bands\n",
    "        for band, (low, high) in freq_bands.items():\n",
    "            # Calculate centroid and entropy for each frequency band\n",
    "            \n",
    "            summed_psdR1 = compute_summed_psd(normalized_psdsR1,freqsR1, low,high)\n",
    "            summed_psdT = compute_summed_psd(normalized_psdsT,freqsT, low,high)\n",
    "            summed_psdR2 = compute_summed_psd(normalized_psdsR2,freqsR2, low,high)\n",
    "            \n",
    "            centroid_band_R1 = compute_centroid(normalized_psdsR1, freqsR1, low, high)\n",
    "            centroid_band_T = compute_centroid(normalized_psdsT, freqsT, low, high)\n",
    "            centroid_band_R2 = compute_centroid(normalized_psdsR2, freqsR2, low, high)\n",
    "            \n",
    "            centroidy_band_R1 = compute_centroid_y(normalized_psdsR1, freqsR1, low, high)\n",
    "            centroidy_band_T = compute_centroid_y(normalized_psdsT, freqsT, low, high)\n",
    "            centroidy_band_R2 = compute_centroid_y(normalized_psdsR2, freqsR2, low, high)\n",
    "\n",
    "            entropy_band_R1 = compute_entropy(normalized_psdsR1, low, high)\n",
    "            entropy_band_T = compute_entropy(normalized_psdsT, low, high)\n",
    "            entropy_band_R2 = compute_entropy(normalized_psdsR2, low, high)\n",
    "\n",
    "            # Create a DataFrame for the centroids and entropies\n",
    "            df_band = pd.DataFrame({\n",
    "                'Band': band,\n",
    "                'Label': label,\n",
    "                'File': eeg_file,\n",
    "                'CentroidR1': centroid_band_R1,\n",
    "                'CentroidT': centroid_band_T,\n",
    "                'CentroidR2': centroid_band_R2,\n",
    "                'CentroidyR1': centroidy_band_R1,\n",
    "                'CentroidyT': centroidy_band_T,\n",
    "                'CentroidyR2': centroidy_band_R2,\n",
    "                'EntropyR1': entropy_band_R1,\n",
    "                'EntropyT': entropy_band_T,\n",
    "                'EntropyR2': entropy_band_R2,\n",
    "                'Summed PSDR1': summed_psdR1,\n",
    "                'Summed PSDT' : summed_psdT,\n",
    "                'Summed PSDR2': summed_psdR2\n",
    "            })\n",
    "\n",
    "            # Append the DataFrame to the list\n",
    "            dfs.append(df_band)\n",
    "\n",
    "                \n",
    "#        for channel_idx in range(n_channels):\n",
    "#            for band_name, (fmin, fmax) in freq_bands.items():\n",
    "#                plt.figure(figsize=(10, 6))\n",
    "#                band_idx_R1 = np.where((freqsR1 >= fmin) & (freqsR1 <= fmax))[0]\n",
    "#                band_idx_T = np.where((freqsT >= fmin) & (freqsT <= fmax))[0]\n",
    "#                band_idx_R2 = np.where((freqsR2 >= fmin) & (freqsR2 <= fmax))[0]\n",
    "                \n",
    "                # Calculate width of the figure based on frequency range proportion\n",
    "#                width = 100 * ((fmax - fmin) / 45)  # base width multiplied by the proportion of band range to total range\n",
    "                \n",
    "#                plt.figure(figsize=(width, 6))\n",
    "                \n",
    "#                plt.plot(freqsR1[band_idx_R1], normalized_psdsR1[channel_idx, band_idx_R1], label=f'Rest Awal')\n",
    "#                plt.plot(freqsT[band_idx_T], normalized_psdsT[channel_idx, band_idx_T], label=f'Tafakur')\n",
    "#                plt.plot(freqsR2[band_idx_R2], normalized_psdsR2[channel_idx, band_idx_R2], label=f'Rest Akhir')\n",
    "                \n",
    "#                plt.xlabel('Frekuensi (Hz)', fontsize=20)\n",
    "#                plt.ylabel('PSD Ternormalisasi', fontsize=20)\n",
    "#                plt.legend(fontsize=12, loc='upper right')\n",
    "#                plt.xticks(fontsize=18)\n",
    "#                plt.yticks(fontsize=18)\n",
    "#                plt.grid(True)\n",
    "#                plt.tight_layout()\n",
    "#                plt.figtext(0.5, 0.8, f'{channel_names[channel_idx]} - {band_name} - {short_label}', fontsize=24, ha='center')\n",
    "#                plt.show()\n",
    "                # Save the plot with a descriptive filename\n",
    "                #plot_filename = f'{channel_names[channel_idx]}_{short_label}_{band_name}.png'\n",
    "                #plot_filepath = os.path.join(\"D:\\VSCode\\Git Repositories\\AlgorithmsNeuroscience\\Tutorials\\For Thesis\\PSD\", plot_filename)\n",
    "                #plt.savefig(plot_filepath, bbox_inches=\"tight\")\n",
    "                \n",
    "                #plt.close()  # Close the figure to avoid memory issues\n",
    "                \n",
    "                #print(f\"Plot {channel_names[channel_idx]}_{band_name}_{short_label} saved successfully.\")\n",
    "                \n",
    "                \n",
    "#        # Calculate summed PSD for each condition\n",
    "#        summed_psd_R1 = calculate_summed_psd(normalized_psdsR1, freqsR1, freq_bands)\n",
    "#        summed_psd_T = calculate_summed_psd(normalized_psdsT, freqsT, freq_bands)\n",
    "#        summed_psd_R2 = calculate_summed_psd(normalized_psdsR2, freqsR2, freq_bands)\n",
    "        \n",
    "        # Append the summed PSD values to the list\n",
    "#        summed_psd_list.append({\n",
    "#            'Label': label,\n",
    "#            'File': eeg_file,\n",
    "#            'Summed PSD Rest 1': summed_psd_R1,\n",
    "#            'Summed PSD Tafakur': summed_psd_T,\n",
    "#            'Summed PSD Rest 2': summed_psd_R2\n",
    "#        })\n",
    "# Create a DataFrame\n",
    "#df = pd.DataFrame(summed_psd_list)\n",
    "# Optionally, you can save the DataFrame to a CSV file\n",
    "#df.to_csv('summed_psd_data.csv', index=False)\n",
    "\n"
   ]
  },
  {
   "cell_type": "code",
   "execution_count": 8,
   "metadata": {},
   "outputs": [
    {
     "name": "stdout",
     "output_type": "stream",
     "text": [
      "New sheets added to Entropy\n"
     ]
    }
   ],
   "source": [
    "\n",
    "# Concatenate all data frames in dfs into one\n",
    "merged_df = pd.concat(dfs, ignore_index=True)\n",
    "#save in excel\n",
    "excel_filename = \"D:\\VSCode\\Git Repositories\\AlgorithmsNeuroscience\\Tutorials\\For Thesis/centroid_data.xlsx\"\n",
    "with pd.ExcelWriter(excel_filename, engine = 'openpyxl', mode='a') as writer:\n",
    "    merged_df.to_excel(writer, sheet_name='Sheet7', index=False)\n",
    "\n",
    "print(f\"New sheets added to Entropy\")\n"
   ]
  },
  {
   "cell_type": "markdown",
   "metadata": {},
   "source": [
    "# Initialize lists to store results\n",
    "centroid_results = []\n",
    "entropy_results = []\n",
    "\n",
    "# Loop through frequency bands\n",
    "for band, (low, high) in freq_bands.items():\n",
    "    # Calculate centroid and entropy for each frequency band\n",
    "    centroid_band_R1 = compute_centroid(normalized_psdsR1, freqsR1, low, high)\n",
    "    centroid_band_T = compute_centroid(normalized_psdsT, freqsT, low, high)\n",
    "    centroid_band_R2 = compute_centroid(normalized_psdsR2, freqsR2, low, high)\n",
    "    \n",
    "    entropy_band_R1 = compute_entropy(normalized_psdsR1, low, high)\n",
    "    entropy_band_T = compute_entropy(normalized_psdsT, low, high)\n",
    "    entropy_band_R2 = compute_entropy(normalized_psdsR2, low, high)\n",
    "    \n",
    "    # Append results to lists\n",
    "    centroid_results.append([centroid_band_R1, centroid_band_T, centroid_band_R2])\n",
    "    entropy_results.append([entropy_band_R1, entropy_band_T, entropy_band_R2])\n",
    "\n",
    "# Convert lists to numpy arrays for easier manipulation\n",
    "centroid_array = np.array(centroid_results)\n",
    "entropy_array = np.array(entropy_results)\n",
    "\n",
    "# Reshape centroid and entropy arrays to match the shape of your PSD arrays\n",
    "centroid_array = centroid_array.reshape((n_channels, -1))\n",
    "entropy_array = entropy_array.reshape((n_channels, -1))\n",
    "\n",
    "# Create pandas DataFrame to store results\n",
    "df = pd.DataFrame(centroid_array, columns=[f'{band}_centroid_R1' for band in freq_bands] + \n",
    "                                          [f'{band}_centroid_T' for band in freq_bands] + \n",
    "                                          [f'{band}_centroid_R2' for band in freq_bands])\n",
    "\n",
    "df_entropy = pd.DataFrame(entropy_array, columns=[f'{band}_entropy_R1' for band in freq_bands] + \n",
    "                                              [f'{band}_entropy_T' for band in freq_bands] + \n",
    "                                              [f'{band}_entropy_R2' for band in freq_bands])\n",
    "\n",
    "\n",
    "# Combine centroid and entropy DataFrames\n",
    "df_combined = pd.concat([df, df_entropy], axis=1)\n",
    "\n",
    "# Add channel names as index\n",
    "df_combined.index = channel_names\n",
    "\n",
    "# Save DataFrame to Excel file\n",
    "output_excel_path = 'centroid_entropy_results.xlsx'\n",
    "df_combined.to_excel(output_excel_path)"
   ]
  }
 ],
 "metadata": {
  "kernelspec": {
   "display_name": "Python 3",
   "language": "python",
   "name": "python3"
  },
  "language_info": {
   "codemirror_mode": {
    "name": "ipython",
    "version": 3
   },
   "file_extension": ".py",
   "mimetype": "text/x-python",
   "name": "python",
   "nbconvert_exporter": "python",
   "pygments_lexer": "ipython3",
   "version": "3.9.8"
  }
 },
 "nbformat": 4,
 "nbformat_minor": 2
}
